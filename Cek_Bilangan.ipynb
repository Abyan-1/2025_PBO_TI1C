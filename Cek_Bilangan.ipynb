{
  "nbformat": 4,
  "nbformat_minor": 0,
  "metadata": {
    "colab": {
      "provenance": [],
      "authorship_tag": "ABX9TyPfuKPbCArNhUkDPyJ8MsTE",
      "include_colab_link": true
    },
    "kernelspec": {
      "name": "python3",
      "display_name": "Python 3"
    },
    "language_info": {
      "name": "python"
    }
  },
  "cells": [
    {
      "cell_type": "markdown",
      "metadata": {
        "id": "view-in-github",
        "colab_type": "text"
      },
      "source": [
        "<a href=\"https://colab.research.google.com/github/Abyan-1/2025_PBO_TI1C/blob/main/Cek_Bilangan.ipynb\" target=\"_parent\"><img src=\"https://colab.research.google.com/assets/colab-badge.svg\" alt=\"Open In Colab\"/></a>"
      ]
    },
    {
      "cell_type": "code",
      "execution_count": 5,
      "metadata": {
        "id": "upQyLPba0Spj",
        "outputId": "027ba560-22b2-4852-8bc1-b690f19940c7",
        "colab": {
          "base_uri": "https://localhost:8080/"
        }
      },
      "outputs": [
        {
          "output_type": "stream",
          "name": "stdout",
          "text": [
            "Masukkan Bilangan: 13\n",
            "Angka (13) adalah bilangan ganjil.\n",
            "Apakah Anda ingin mengulangi? (y/n): y\n",
            "Masukkan Bilangan: sffg\n",
            "Angka yang dimasukkan bukan bilangan. Bilangan ini bukan bilangan valid.\n",
            "Apakah Anda ingin mengulangi? (y/n): n\n",
            "Terima kasih telah menggunakan program ini!\n"
          ]
        }
      ],
      "source": [
        "while True:\n",
        "    try:\n",
        "        num = float(input(\"Masukkan Bilangan: \"))\n",
        "\n",
        "        if num % 2 == 0:\n",
        "            print(f\"Angka ({int(num)}) adalah bilangan genap.\")\n",
        "        else:\n",
        "            print(f\"Angka ({int(num)}) adalah bilangan ganjil.\")\n",
        "\n",
        "    except ValueError:\n",
        "        print(\"Angka yang dimasukkan bukan bilangan. Bilangan ini bukan bilangan valid.\")\n",
        "\n",
        "    ulang = input(\"Apakah Anda ingin mengulangi? (y/n): \").strip().lower()\n",
        "    if ulang != \"y\":\n",
        "        print(\"Terima kasih telah menggunakan program ini!\")\n",
        "        break\n"
      ]
    },
    {
      "cell_type": "code",
      "source": [],
      "metadata": {
        "id": "65bqffZZ822I"
      },
      "execution_count": null,
      "outputs": []
    }
  ]
}