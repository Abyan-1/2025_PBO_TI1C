{
  "nbformat": 4,
  "nbformat_minor": 0,
  "metadata": {
    "colab": {
      "provenance": [],
      "authorship_tag": "ABX9TyP7ctlwXV1SMR8J9vg3NYhK",
      "include_colab_link": true
    },
    "kernelspec": {
      "name": "python3",
      "display_name": "Python 3"
    },
    "language_info": {
      "name": "python"
    }
  },
  "cells": [
    {
      "cell_type": "markdown",
      "metadata": {
        "id": "view-in-github",
        "colab_type": "text"
      },
      "source": [
        "<a href=\"https://colab.research.google.com/github/Abyan-1/2025_PBO_TI1C/blob/main/Cek_Bilangan.ipynb\" target=\"_parent\"><img src=\"https://colab.research.google.com/assets/colab-badge.svg\" alt=\"Open In Colab\"/></a>"
      ]
    },
    {
      "cell_type": "code",
      "execution_count": 7,
      "metadata": {
        "id": "upQyLPba0Spj",
        "outputId": "af38987f-429f-4966-8461-0b38fcd60677",
        "colab": {
          "base_uri": "https://localhost:8080/"
        }
      },
      "outputs": [
        {
          "output_type": "stream",
          "name": "stdout",
          "text": [
            "Masukkan Bilangan: 20\n",
            "Angka (20) adalah bilangan genap.\n",
            "Angka (20) bukan bilangan prima.\n",
            "Apakah Anda ingin mengulangi? (y/n): y\n",
            "Masukkan Bilangan: 11\n",
            "Angka (11) adalah bilangan ganjil.\n",
            "Angka (11) adalah bilangan prima.\n",
            "Apakah Anda ingin mengulangi? (y/n): y\n",
            "Masukkan Bilangan: 9\n",
            "Angka (9) adalah bilangan ganjil.\n",
            "Angka (9) bukan bilangan prima.\n",
            "Apakah Anda ingin mengulangi? (y/n): n\n",
            "Terima kasih telah menggunakan program ini!\n"
          ]
        }
      ],
      "source": [
        "while True:\n",
        "    try:\n",
        "        num = int(input(\"Masukkan Bilangan: \"))\n",
        "\n",
        "        if num % 2 == 0:\n",
        "            print(f\"Angka ({num}) adalah bilangan genap.\")\n",
        "        else:\n",
        "            print(f\"Angka ({num}) adalah bilangan ganjil.\")\n",
        "\n",
        "        # Cek bilangan prima\n",
        "        if num > 1:\n",
        "            is_prime = True\n",
        "            for i in range(2, int(num ** 0.5) + 1):\n",
        "                if num % i == 0:\n",
        "                    is_prime = False\n",
        "                    break\n",
        "            if is_prime:\n",
        "                print(f\"Angka ({num}) adalah bilangan prima.\")\n",
        "            else:\n",
        "                print(f\"Angka ({num}) bukan bilangan prima.\")\n",
        "        else:\n",
        "            print(f\"Angka ({num}) bukan bilangan prima.\")\n",
        "\n",
        "    except ValueError:\n",
        "        print(\"Angka yang dimasukkan bukan bilangan valid.\")\n",
        "\n",
        "    ulang = input(\"Apakah Anda ingin mengulangi? (y/n): \").strip().lower()\n",
        "    if ulang != \"y\":\n",
        "        print(\"Terima kasih telah menggunakan program ini!\")\n",
        "        break"
      ]
    },
    {
      "cell_type": "code",
      "source": [],
      "metadata": {
        "id": "65bqffZZ822I"
      },
      "execution_count": null,
      "outputs": []
    }
  ]
}