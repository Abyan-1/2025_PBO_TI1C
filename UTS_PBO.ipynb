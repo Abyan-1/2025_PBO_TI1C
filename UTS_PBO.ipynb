{
  "nbformat": 4,
  "nbformat_minor": 0,
  "metadata": {
    "colab": {
      "provenance": [],
      "authorship_tag": "ABX9TyMXH4ATdVw7sJn/KvVPJNF0",
      "include_colab_link": true
    },
    "kernelspec": {
      "name": "python3",
      "display_name": "Python 3"
    },
    "language_info": {
      "name": "python"
    }
  },
  "cells": [
    {
      "cell_type": "markdown",
      "metadata": {
        "id": "view-in-github",
        "colab_type": "text"
      },
      "source": [
        "<a href=\"https://colab.research.google.com/github/Abyan-1/2025_PBO_TI1C/blob/main/UTS_PBO.ipynb\" target=\"_parent\"><img src=\"https://colab.research.google.com/assets/colab-badge.svg\" alt=\"Open In Colab\"/></a>"
      ]
    },
    {
      "cell_type": "markdown",
      "source": [
        "#Kode Benar"
      ],
      "metadata": {
        "id": "l3GAVKEXNAp_"
      }
    },
    {
      "cell_type": "code",
      "source": [
        "#Kelas Induk\n",
        "class AlatElektronik():\n",
        "  \"\"\"\n",
        "  Kelas induk untuk merepresentasikan alat elektronik.\n",
        "  \"\"\"\n",
        "  def __init__(self, merk: str, model: str):\n",
        "    self.merk = merk\n",
        "    self.model = model\n",
        "    self._status_daya = False #Default mati\n",
        "  def nyalakan(self):\n",
        "    \"\"\"\n",
        "    Mengubah _status_daya menjadi True dan mencetak pesan.\n",
        "    \"\"\"\n",
        "    if not self._status_daya:\n",
        "      self._status_daya = True\n",
        "      print(f\"{self.merk} {self.model} telah dinyalakan.\")\n",
        "    else:\n",
        "      print(f\"{self.merk} {self.model} sudah dalam keadaan nyala.\")\n",
        "  def matikan(self):\n",
        "    \"\"\"\n",
        "    Mengubah _status_daya menjasi False dan mencetak pesan.\n",
        "    \"\"\"\n",
        "    if self._status_daya:\n",
        "      self._status_daya = False\n",
        "      print(f\"{self.merk} {self.model} telah dimatikan.\")\n",
        "    else:\n",
        "      print(f\"{self.merk} {self.model} sudah dalam keadaan mati.\")\n",
        "  def get_info(self):\n",
        "    \"\"\"\n",
        "    Mencetak informasi dasar (merk dan model) dan sattus daya.\n",
        "    \"\"\"\n",
        "    print(f\"INFORMASI ALAT\")\n",
        "    print(f\"Merk: {self.merk}\")\n",
        "    print(f\"Model: {self.model}\")\n",
        "    print(f\"Status Daya: {'Nyala' if self._status_daya else 'Mati'}\")\n",
        "#Kelas Anak I\n",
        "class Televisi(AlatElektronik):\n",
        "  \"\"\"\n",
        "  Kelas anak untuk merepresentasikan Televisi.\n",
        "  \"\"\"\n",
        "  def __init__(self, merk: str, model: str, ukuran_layar: float):\n",
        "    super().__init__(merk, model)\n",
        "    self.ukuran_layar = ukuran_layar\n",
        "  def get_info(self):\n",
        "    \"\"\"\n",
        "    Menampilkan informasi merk, model, dan ukuran_layar.\n",
        "    \"\"\"\n",
        "    print(f\"INFORMASI TELEVISI\")\n",
        "    print(f\"Merk: {self.merk}\")\n",
        "    print(f\"Model: {self.model}\")\n",
        "    print(f\"Ukuran Layar: {self.ukuran_layar} inci\")\n",
        "    print(f\"Status Daya: {'Nyala' if self._status_daya else 'Mati'}\")\n",
        "  def ganti_channel(self, channel: int):\n",
        "    \"\"\"\n",
        "    Mencetak pesan penggantian channel (hanya jika televisi dalam keadaan nyala.\n",
        "    \"\"\"\n",
        "    if self._status_daya:\n",
        "      print(f\"Televisi {self.merk} {self.model}: Channel diganti ke {channel}.\")\n",
        "    else:\n",
        "      print(f\"Televisi {self.merk} {self.model} dalam keadaan mati. Tidak bisa berganti channel.\")\n",
        "#Kelas Anak II\n",
        "class Radio(AlatElektronik):\n",
        "  def __init__(self, merk: str, model: str, frekuensi: float):\n",
        "    super().__init__(merk, model)\n",
        "    self.frekuensi = frekuensi\n",
        "  def get_info(self):\n",
        "    \"\"\"\n",
        "    Menampilkan informasi merk, model, dan frekuensi saat ini.\n",
        "    \"\"\"\n",
        "    print(f\"INFORMASI RADIO\")\n",
        "    print(f\"Merk: {self.merk}\")\n",
        "    print(f\"Model: {self.model}\")\n",
        "    print(f\"Frekuensi Saat Ini: {self.frekuensi} MHz\")\n",
        "    print(f\"Status Daya: {'Menyala' if self._status_daya else 'Mati'}\")\n",
        "  def set_frekuensi(self, frekuensi_baru: float):\n",
        "    \"\"\"\n",
        "    Mengubah nilai atribut frekuensi (hanya jika radio menyala).\n",
        "    \"\"\"\n",
        "    if self._status_daya:\n",
        "      self.frekuensi = frekuensi_baru\n",
        "      print(f\"Radio {self.merk} {self.model}: Frekuensi diubah ke {self.frekuensi} MHz\")\n",
        "    else:\n",
        "      print(f\"Radio {self.merk} {self.model} dalam keadaan mati. Tidak dapat diubah frekuensinya.\")\n",
        "#Kode Utama\n",
        "if __name__ == \"__main__\":\n",
        "  print(\"--- DEMONSTRASI TELEVISI ---\")\n",
        "  tv_samsung = Televisi(merk=\"Samsung\", model=\"QLED Q99A\", ukuran_layar=55)\n",
        "  tv_samsung.get_info()\n",
        "  tv_samsung.nyalakan()\n",
        "  tv_samsung.get_info()\n",
        "  tv_samsung.ganti_channel(channel=7)\n",
        "  tv_samsung.matikan()\n",
        "  tv_samsung.ganti_channel(channel=11)\n",
        "  print(\"\\n\")\n",
        "  print(\"--- DEMONSTRASI RADIO ---\")\n",
        "  radio_jbl = Radio(merk=\"JBL\", model=\"Flip 11\", frekuensi=100.5)\n",
        "  radio_jbl.get_info()\n",
        "  radio_jbl.nyalakan()\n",
        "  radio_jbl.get_info()\n",
        "  radio_jbl.set_frekuensi(frekuensi_baru=99.2)\n",
        "  radio_jbl.matikan()\n",
        "  radio_jbl.set_frekuensi(frekuensi_baru=101.5)"
      ],
      "metadata": {
        "colab": {
          "base_uri": "https://localhost:8080/"
        },
        "id": "e_5Z_XvaNEWd",
        "outputId": "94802716-98fa-4dfb-d4e8-9ff3d7a85e38"
      },
      "execution_count": 4,
      "outputs": [
        {
          "output_type": "stream",
          "name": "stdout",
          "text": [
            "--- DEMONSTRASI TELEVISI ---\n",
            "INFORMASI TELEVISI\n",
            "Merk: Samsung\n",
            "Model: QLED Q99A\n",
            "Ukuran Layar: 55 inci\n",
            "Status Daya: Mati\n",
            "Samsung QLED Q99A telah dinyalakan.\n",
            "INFORMASI TELEVISI\n",
            "Merk: Samsung\n",
            "Model: QLED Q99A\n",
            "Ukuran Layar: 55 inci\n",
            "Status Daya: Nyala\n",
            "Televisi Samsung QLED Q99A: Channel diganti ke 7.\n",
            "Samsung QLED Q99A telah dimatikan.\n",
            "Televisi Samsung QLED Q99A dalam keadaan mati. Tidak bisa berganti channel.\n",
            "\n",
            "\n",
            "--- DEMONSTRASI RADIO ---\n",
            "INFORMASI RADIO\n",
            "Merk: JBL\n",
            "Model: Flip 11\n",
            "Frekuensi Saat Ini: 100.5 MHz\n",
            "Status Daya: Mati\n",
            "JBL Flip 11 telah dinyalakan.\n",
            "INFORMASI RADIO\n",
            "Merk: JBL\n",
            "Model: Flip 11\n",
            "Frekuensi Saat Ini: 100.5 MHz\n",
            "Status Daya: Menyala\n",
            "Radio JBL Flip 11: Frekuensi diubah ke 99.2 MHz\n",
            "JBL Flip 11 telah dimatikan.\n",
            "Radio JBL Flip 11 dalam keadaan mati. Tidak dapat diubah frekuensinya.\n"
          ]
        }
      ]
    },
    {
      "cell_type": "markdown",
      "source": [
        "#salah"
      ],
      "metadata": {
        "id": "EvoXkJCrSZym"
      }
    },
    {
      "cell_type": "code",
      "source": [],
      "metadata": {
        "id": "trHSyS2OSdod"
      },
      "execution_count": null,
      "outputs": []
    },
    {
      "cell_type": "markdown",
      "source": [
        "##Kode Salah"
      ],
      "metadata": {
        "id": "XYr_b-CvM9Hw"
      }
    },
    {
      "cell_type": "code",
      "source": [
        "class AlatElektronik():\n",
        "  def __init__(self, merk, model):\n",
        "    self.merk = merk\n",
        "    self.model =  odel\n",
        "    print(f\"{self.merk}, {self.model}\")\n",
        "  def __init__(self, status_daya, nyalakan, matikan):\n",
        "    self._status_daya = status_daya\n",
        "    self._nyalakan = nyalakan\n",
        "    self._matikan = matikan\n",
        "  for {status_daya} is False:\n",
        "    print(\"Alat Elektronik dalam keadaan mati\")\n",
        "    else:\n",
        "      print(\"Alat Elektronik dalam keadaan nyala\")\n",
        "  class Televisi(AlatElektronik):\n",
        "    def __init__(self, merk, model, ukuran_layar):\n",
        "      super().__init__(merk,Model)\n",
        "      self.ukuran_layar = ukuran_layar\n",
        "    def __init__(self, ganti_channel):\n",
        "      self.ganti_channel = ganti_channel\n",
        "    print(f\"TV {merk}, Model{model}, dengan {ukuran_layar}\")"
      ],
      "metadata": {
        "id": "K4bnHb73NFH4",
        "outputId": "271c70a2-a696-496e-e0ab-e9c092dfcd94",
        "colab": {
          "base_uri": "https://localhost:8080/",
          "height": 106
        }
      },
      "execution_count": null,
      "outputs": [
        {
          "output_type": "error",
          "ename": "SyntaxError",
          "evalue": "invalid syntax (ipython-input-1-2518559741.py, line 10)",
          "traceback": [
            "\u001b[0;36m  File \u001b[0;32m\"/tmp/ipython-input-1-2518559741.py\"\u001b[0;36m, line \u001b[0;32m10\u001b[0m\n\u001b[0;31m    for {status_daya} is False:\u001b[0m\n\u001b[0m                      ^\u001b[0m\n\u001b[0;31mSyntaxError\u001b[0m\u001b[0;31m:\u001b[0m invalid syntax\n"
          ]
        }
      ]
    }
  ]
}