{
  "nbformat": 4,
  "nbformat_minor": 0,
  "metadata": {
    "colab": {
      "provenance": [],
      "authorship_tag": "ABX9TyOyTBC2TokmPgheb3QCqQdB",
      "include_colab_link": true
    },
    "kernelspec": {
      "name": "python3",
      "display_name": "Python 3"
    },
    "language_info": {
      "name": "python"
    }
  },
  "cells": [
    {
      "cell_type": "markdown",
      "metadata": {
        "id": "view-in-github",
        "colab_type": "text"
      },
      "source": [
        "<a href=\"https://colab.research.google.com/github/Abyan-1/2025_PBO_TI1C/blob/main/Jobsheet3_PBO.ipynb\" target=\"_parent\"><img src=\"https://colab.research.google.com/assets/colab-badge.svg\" alt=\"Open In Colab\"/></a>"
      ]
    },
    {
      "cell_type": "markdown",
      "source": [
        "#Praktikum"
      ],
      "metadata": {
        "id": "mBhFM04DzUoK"
      }
    },
    {
      "cell_type": "markdown",
      "source": [
        "##Enkapsulasi pada kelas Bank Account"
      ],
      "metadata": {
        "id": "sinF3uaUzXYk"
      }
    },
    {
      "cell_type": "code",
      "source": [
        "class BankAccount:\n",
        "  def __init__(self, owner, balance):\n",
        "    self.__owner = owner\n",
        "    self.__balance = balance\n",
        "  def deposit(self, amount):\n",
        "    \"\"\"Method untuk menambahkan saldo.\"\"\"\n",
        "    if amount > 0:\n",
        "      self.__balance += amount\n",
        "      print(f\"{amount} telah ditambahkan ke akun {self.__owner}.\")\n",
        "    else:\n",
        "      print(\"Jumlah deposit harus lebih dari 0.\")\n",
        "  def withdraw(self, amount):\n",
        "    \"\"\"Method untuk menarik saldo.\"\"\"\n",
        "    if amount <= self.__balance:\n",
        "      self.__balance -= amount\n",
        "      print(f\"{amount} telah ditarik dari akun {self.__owner}\")\n",
        "    else:\n",
        "      print(\"saldo tidak mencukupi.\")\n",
        "  def get_balance(self):\n",
        "    \"\"\"Method untuk mendapatkan informasi saldo terkini.\"\"\"\n",
        "    return self.__balance\n",
        "\n",
        "if __name__ == \"__main__\":\n",
        "  alice_account = BankAccount(owner=\"Alice\", balance=1000)\n",
        "  alice_account.deposit(500)\n",
        "  alice_account.deposit(-100)\n",
        "\n",
        "  alice_account.withdraw(300)\n",
        "  alice_account.withdraw(2000)\n",
        "\n",
        "  current_balance = alice_account.get_balance()\n",
        "  print(f\"Saldo terakhir di akun {alice_account._BankAccount__owner}: {current_balance}\")"
      ],
      "metadata": {
        "colab": {
          "base_uri": "https://localhost:8080/"
        },
        "id": "xL5i6MDB0TG2",
        "outputId": "f0c7afc1-fa94-4b26-9851-9fe8325cadd2"
      },
      "execution_count": 1,
      "outputs": [
        {
          "output_type": "stream",
          "name": "stdout",
          "text": [
            "500 telah ditambahkan ke akun Alice.\n",
            "Jumlah deposit harus lebih dari 0.\n",
            "300 telah ditarik dari akun Alice\n",
            "saldo tidak mencukupi.\n",
            "Saldo terakhir di akun Alice: 1200\n"
          ]
        }
      ]
    },
    {
      "cell_type": "markdown",
      "source": [
        "##Enkapsulasi pada kelas Employee"
      ],
      "metadata": {
        "id": "8OudyTzIzgaV"
      }
    },
    {
      "cell_type": "code",
      "source": [
        "class Employee:\n",
        "  def __init__(self, name, salary):\n",
        "    self.__name = name\n",
        "    self.__salary = salary\n",
        "  def update_salary(self, increase):\n",
        "    \"\"\"Method unutk menaiakan gaji dengan validasi.\"\"\"\n",
        "    if increase > 0:\n",
        "      self.__salary += increase\n",
        "      print(f\"Gaji telah dinaikan sebesar {increase}\")\n",
        "    else:\n",
        "      print(\"Nilai kenaikan harus lebih dari 0\")\n",
        "  def set_salary(self, new_salary):\n",
        "    \"\"\"Method untuk mengubah gaji dengan validasi.\"\"\"\n",
        "    if new_salary >= 0:\n",
        "      self.__salary = new_salary\n",
        "      print(f\"Gaji diatur ulang menjadi {new_salary}.\")\n",
        "    else:\n",
        "      print(\"Gaji tidak dapat bernilai negatif\")\n",
        "  def get_salary(self):\n",
        "    \"\"\"Method untuk mendapatkan informasi gaji.\"\"\"\n",
        "    return self.__salary\n",
        "  def get_employee_info(self):\n",
        "    \"\"\"Method untuk menampilkan informasi karyawan secara menyeluruh.\"\"\"\n",
        "    return f\"Employee: {self.__name}, Gaji: {self.__salary}\"\n",
        "\n",
        "if __name__ == \"__main__\":\n",
        "  employee1 = Employee(\"John Doe\", 50000)\n",
        "\n",
        "  print(employee1.get_employee_info())\n",
        "\n",
        "  employee1.update_salary(5000)\n",
        "  print(f\"Gaji setelah kenaikan: {employee1.get_salary()}\")\n",
        "\n",
        "  employee1.set_salary(60000)\n",
        "  print(f\"Informasi terbaru: {employee1.get_employee_info()}\")"
      ],
      "metadata": {
        "colab": {
          "base_uri": "https://localhost:8080/"
        },
        "id": "vUJEK2Jl0S1K",
        "outputId": "86f60fbc-c299-4c12-837b-786fa5dafb16"
      },
      "execution_count": 3,
      "outputs": [
        {
          "output_type": "stream",
          "name": "stdout",
          "text": [
            "Employee: John Doe, Gaji: 50000\n",
            "Gaji telah dinaikan sebesar 5000\n",
            "Gaji setelah kenaikan: 55000\n",
            "Gaji diatur ulang menjadi 60000.\n",
            "Informasi terbaru: Employee: John Doe, Gaji: 60000\n"
          ]
        }
      ]
    },
    {
      "cell_type": "markdown",
      "source": [
        "##Konstruktor dan Destruktor Sederhana"
      ],
      "metadata": {
        "id": "G4fNODfWzmzX"
      }
    },
    {
      "cell_type": "code",
      "source": [
        "class SimpleExample:\n",
        "  def __init__(self, name):\n",
        "    \"\"\"\n",
        "    Konstruktor: Dipanggil saat onjek dibuat.\n",
        "    Menyimpan nilai 'name' dan mencetak pesan pembuatan objek.\n",
        "    \"\"\"\n",
        "    self.name = name\n",
        "    print(f\"Konstruktor: Objek '{self.name}' telah dibuat.\")\n",
        "  def __del__(self):\n",
        "    \"\"\"\n",
        "    Destruktor: Dipanggil saat objek dihapus.\n",
        "    Mencetak pesan bahwa objek sedang dihapus.\n",
        "    \"\"\"\n",
        "    print(f\"Destruktor: Objek '{self.name} sedang dihapus.\")\n",
        "  def main():\n",
        "    print(\"Program dimulai.\\n\")\n",
        "    obj = SimpleExample(\"Demo\")\n",
        "    print(\"Program sedang berjalan...\\n\")\n",
        "    del obj\n",
        "    print(\"Objek telah dihapus secara eksplisit.\\n\")\n",
        "\n",
        "    print(\"Program selesai.\\n\")\n",
        "\n",
        "  if __name__ == \"__main__\":\n",
        "    main()"
      ],
      "metadata": {
        "colab": {
          "base_uri": "https://localhost:8080/"
        },
        "id": "gjgxcub10Sk1",
        "outputId": "02d73bd3-3390-4f7f-ba9c-c3b3d402ef50"
      },
      "execution_count": 5,
      "outputs": [
        {
          "output_type": "stream",
          "name": "stdout",
          "text": [
            "Program dimulai.\n",
            "\n",
            "Konstruktor: Objek 'Demo' telah dibuat.\n",
            "Program sedang berjalan...\n",
            "\n",
            "Destruktor: Objek 'Demo sedang dihapus.\n",
            "Objek telah dihapus secara eksplisit.\n",
            "\n",
            "Program selesai.\n",
            "\n"
          ]
        }
      ]
    },
    {
      "cell_type": "markdown",
      "source": [
        "##Konstruktor dan Destruktor program FileLogger"
      ],
      "metadata": {
        "id": "JdnadsxHzvIb"
      }
    },
    {
      "cell_type": "code",
      "source": [
        "class FileLogger:\n",
        "  def __init__(self, filename):\n",
        "    \"\"\"\n",
        "    Konstruktor: Membuka file log untuk menulis pesan.\n",
        "    Parameter:\n",
        "    - filename: Nama file tempat pesan log akan ditulis.\n",
        "    \"\"\"\n",
        "    self.filename = filename\n",
        "    try:\n",
        "      self.file = open(filename, \"a\")\n",
        "      print(f\"File '{filename}' berhasil dibuka untuk logging.\")\n",
        "    except Exception as e:\n",
        "      print(f\"Gagal membuka file '{filename}' {e}\")\n",
        "  def write_log(self, message):\n",
        "    \"\"\"\n",
        "    Menulis pesan log ke dalam file.\n",
        "    Parameter:\n",
        "    -message: Pesan yang akan ditulis ke file.\n",
        "    \"\"\"\n",
        "    self.file.write(message + \"\\n\")\n",
        "    self.file.flush()\n",
        "    print(f\"Pesan log:'{message}' telah ditulis.\")\n",
        "  def __del__(self):\n",
        "    \"\"\"\n",
        "    Destruktor: Menutup file log ketika objek dihapus.\n",
        "    \"\"\"\n",
        "    if hasattr(self, \"file\") and not self.file.closed:\n",
        "      print(f\"File '{self.filename}' telah ditutup.\")\n",
        "if __name__ == \"__main__\":\n",
        "  logger = FileLogger(\"application.log\")\n",
        "\n",
        "  logger.write_log(\"Aplikasi dimulai.\")\n",
        "  logger.write_log(\"Melakukan operasi A...\")\n",
        "  logger.write_log(\"Operasi A selesai.\")\n",
        "  logger.write_log(\"Aplikasi akan segera selesai.\")\n",
        "\n",
        "  del logger"
      ],
      "metadata": {
        "colab": {
          "base_uri": "https://localhost:8080/"
        },
        "id": "aiTVtkJp0SVU",
        "outputId": "6c1849fb-660f-4998-d96b-6e60bd757fbc"
      },
      "execution_count": 9,
      "outputs": [
        {
          "output_type": "stream",
          "name": "stdout",
          "text": [
            "File 'application.log' berhasil dibuka untuk logging.\n",
            "Pesan log:'Aplikasi dimulai.' telah ditulis.\n",
            "Pesan log:'Melakukan operasi A...' telah ditulis.\n",
            "Pesan log:'Operasi A selesai.' telah ditulis.\n",
            "Pesan log:'Aplikasi akan segera selesai.' telah ditulis.\n",
            "File 'application.log' telah ditutup.\n"
          ]
        }
      ]
    },
    {
      "cell_type": "markdown",
      "source": [
        "##Properti \"self\" pada kelas"
      ],
      "metadata": {
        "id": "Jp11bm46z5GH"
      }
    },
    {
      "cell_type": "code",
      "source": [
        "class Calculator:\n",
        "  def __init__(self, initial_value=0):\n",
        "    \"\"\"\n",
        "    Konstruktor kelas Calculator.\n",
        "    - self: Mengacu pada instance yang dibuat.\n",
        "    - initial_value: Nilai awal dari kalkulator.\n",
        "    \"\"\"\n",
        "    self.value = initial_value\n",
        "    print(f\"Kalkulator diinisialisasi dengan nilai: {self.value}\")\n",
        "  def add(self, number):\n",
        "    \"\"\"\n",
        "    Menambhkan 'number' ke nilai yang tersimpan di objek.\n",
        "    - self.value: Menunjukkan nilai saat ini yang disimpan di objek tersebut.\n",
        "    - number: Nilai yang akan ditambhakan.\n",
        "    \"\"\"\n",
        "    self.value += number\n",
        "    print(f\"Nilai setelah penambahan {number}, nilai sekarang adalah: {self.value}\")\n",
        "  def subtract(self, number):\n",
        "    \"\"\"\n",
        "    Mengurangi 'number' dari nilai yabg tersimpan.\n",
        "    - self.value: Nilai saat ini dalam objek.\n",
        "    - umber: Nilai yang akan dikurangkan.\n",
        "    \"\"\"\n",
        "    self.value -= number\n",
        "    print(f\"Setelah pengurangan {number}, nilai sekarang adalah: {self.value}\")\n",
        "  def reset(self):\n",
        "    \"\"\"\n",
        "    Mengatur ulang nilai kalkulator ke 0.\n",
        "    \"\"\"\n",
        "    self.value = 0\n",
        "    print(\"Nilai telah direset ke 0.\")\n",
        "  def show_value(self):\n",
        "    \"\"\"\n",
        "    Menampilkan nilai saat ini dari kalkulator.\n",
        "    \"\"\"\n",
        "    print(f\"Nilai saat ini adalah: {self.value}\")\n",
        "def main():\n",
        "  calc1 = Calculator(initial_value=10)\n",
        "  calc1.add(5)\n",
        "  calc1.subtract(3)\n",
        "  calc1.show_value()\n",
        "\n",
        "  calc2 = Calculator()\n",
        "  calc2.add(20)\n",
        "  calc2.show_value()\n",
        "\n",
        "if __name__ == \"__main__\":\n",
        "  main()"
      ],
      "metadata": {
        "colab": {
          "base_uri": "https://localhost:8080/"
        },
        "id": "zRrvxVJg0SFZ",
        "outputId": "3919b1f9-8b34-4759-aa4c-c8628a43c061"
      },
      "execution_count": 11,
      "outputs": [
        {
          "output_type": "stream",
          "name": "stdout",
          "text": [
            "Kalkulator diinisialisasi dengan nilai: 10\n",
            "Nilai setelah penambahan 5, nilai sekarang adalah: 15\n",
            "Setelah pengurangan 3, nilai sekarang adalah: 12\n",
            "Nilai saat ini adalah: 12\n",
            "Kalkulator diinisialisasi dengan nilai: 0\n",
            "Nilai setelah penambahan 20, nilai sekarang adalah: 20\n",
            "Nilai saat ini adalah: 20\n"
          ]
        }
      ]
    },
    {
      "cell_type": "markdown",
      "source": [
        "##Menggunakan getter, setter, dan dekorator @property untuk mengelola akses atribut"
      ],
      "metadata": {
        "id": "r-Fs3Nrd0CZk"
      }
    },
    {
      "cell_type": "code",
      "source": [
        "class Person:\n",
        "  def __init__(self, name, age):\n",
        "    \"\"\"\n",
        "    Konstruktor untuk menginisialisasi objek Person dengan nama dan umur.\n",
        "    Atribut privat (dengan double underscore) menyimpan data internal.\n",
        "    \"\"\"\n",
        "    self.__name = name\n",
        "    self.__age = age\n",
        "  @property\n",
        "  def name(self):\n",
        "    \"\"\"\n",
        "    Getter untuk atribut name.\n",
        "    Mengembalikan nilai dari __name.\n",
        "    \"\"\"\n",
        "    return self.__name\n",
        "  @name.setter\n",
        "  def name(self, value):\n",
        "    \"\"\"\n",
        "    Setter untuk atribut name.\n",
        "    Memeriksa apakah nilai tidak kosong sebelum mengubah nilai __name.\n",
        "    \"\"\"\n",
        "    if not value:\n",
        "      print(\"Nama tidak boleh kosong.\")\n",
        "    else:\n",
        "      self.__name = value\n",
        "  @property\n",
        "  def age(self):\n",
        "    \"\"\"\n",
        "    Getter untuk atribut age.\n",
        "    Mengembalikan nilai dari __age.\n",
        "    \"\"\"\n",
        "    return self.__age\n",
        "  @age.setter\n",
        "  def age(self, value):\n",
        "    \"\"\"\n",
        "    Setter untuk atribut age.\n",
        "    Memeriksa apakah nilai umur tidak negatif sebelum mengubah nilai __age.\n",
        "    \"\"\"\n",
        "    if value < 0:\n",
        "      print(\"Umur tidak boleh negatif.\")\n",
        "    else:\n",
        "      self.__age = value\n",
        "def main():\n",
        "  person = Person(\"Alice\", 30)\n",
        "  print(f\"Nama: {person.name}, Umur: {person.age}\")\n",
        "  person.name = \"Bob\"\n",
        "  person.age = 35\n",
        "  print(f\"Nama baru: {person.name}, Umur baru: {person.age}\")\n",
        "  person.age = -5\n",
        "if __name__ == \"__main__\":\n",
        "  main()"
      ],
      "metadata": {
        "colab": {
          "base_uri": "https://localhost:8080/"
        },
        "id": "WNPm2FI-0RcX",
        "outputId": "528d52a8-05cb-4240-9ba6-8b3455f97fed"
      },
      "execution_count": 17,
      "outputs": [
        {
          "output_type": "stream",
          "name": "stdout",
          "text": [
            "Nama: Alice, Umur: 30\n",
            "Nama baru: Bob, Umur baru: 35\n",
            "Umur tidak boleh negatif.\n"
          ]
        }
      ]
    }
  ]
}