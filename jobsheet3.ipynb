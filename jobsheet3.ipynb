{
  "nbformat": 4,
  "nbformat_minor": 0,
  "metadata": {
    "colab": {
      "provenance": [],
      "authorship_tag": "ABX9TyN2OqKxYbNiCruBoyC17ZAT",
      "include_colab_link": true
    },
    "kernelspec": {
      "name": "python3",
      "display_name": "Python 3"
    },
    "language_info": {
      "name": "python"
    }
  },
  "cells": [
    {
      "cell_type": "markdown",
      "metadata": {
        "id": "view-in-github",
        "colab_type": "text"
      },
      "source": [
        "<a href=\"https://colab.research.google.com/github/Abyan-1/2025_PBO_TI1C/blob/main/jobsheet3.ipynb\" target=\"_parent\"><img src=\"https://colab.research.google.com/assets/colab-badge.svg\" alt=\"Open In Colab\"/></a>"
      ]
    },
    {
      "cell_type": "markdown",
      "source": [
        "# Enkapsulasi pada Kelas Bank Account"
      ],
      "metadata": {
        "id": "mxVqqXu2d-y6"
      }
    },
    {
      "cell_type": "code",
      "source": [],
      "metadata": {
        "id": "5uAjrQvzeY6d"
      },
      "execution_count": null,
      "outputs": []
    },
    {
      "cell_type": "markdown",
      "source": [
        "# Enkaptulasi pada Kelas Employee"
      ],
      "metadata": {
        "id": "kYC9hbUveOSG"
      }
    },
    {
      "cell_type": "code",
      "source": [],
      "metadata": {
        "id": "b_LH-qElebYm"
      },
      "execution_count": null,
      "outputs": []
    },
    {
      "cell_type": "markdown",
      "source": [
        "# Kelas dan Objek (Konstruktor dan Destruktor Sederhana)"
      ],
      "metadata": {
        "id": "fo0waT5IecdH"
      }
    },
    {
      "cell_type": "markdown",
      "source": [],
      "metadata": {
        "id": "CIHjRE8ceuWW"
      }
    },
    {
      "cell_type": "code",
      "source": [],
      "metadata": {
        "id": "sjo022FXevMG"
      },
      "execution_count": null,
      "outputs": []
    },
    {
      "cell_type": "markdown",
      "source": [
        "# Konstruktor dan Destruktor Program FileLogger"
      ],
      "metadata": {
        "id": "ivemghweezkG"
      }
    },
    {
      "cell_type": "code",
      "source": [],
      "metadata": {
        "id": "UpERECrke6Cu"
      },
      "execution_count": null,
      "outputs": []
    },
    {
      "cell_type": "markdown",
      "source": [
        "# Properti \"self\" pada Kelas"
      ],
      "metadata": {
        "id": "USBnQkPOe6-3"
      }
    },
    {
      "cell_type": "code",
      "source": [],
      "metadata": {
        "id": "-7gsCc1ifDMl"
      },
      "execution_count": null,
      "outputs": []
    },
    {
      "cell_type": "markdown",
      "source": [
        "# Menggunakan getter, setter, dan dekorator @properti Untuk Mengelola Akses Atribut"
      ],
      "metadata": {
        "id": "Dm6OtCmrfDc1"
      }
    },
    {
      "cell_type": "code",
      "source": [],
      "metadata": {
        "id": "3IwrAlVgfP7G"
      },
      "execution_count": null,
      "outputs": []
    },
    {
      "cell_type": "markdown",
      "source": [
        "# Penugasan"
      ],
      "metadata": {
        "id": "2DKcc6zQfXaV"
      }
    },
    {
      "cell_type": "code",
      "source": [],
      "metadata": {
        "id": "di1fKCK4faOH"
      },
      "execution_count": null,
      "outputs": []
    }
  ]
}