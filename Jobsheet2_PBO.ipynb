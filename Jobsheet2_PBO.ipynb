{
  "nbformat": 4,
  "nbformat_minor": 0,
  "metadata": {
    "colab": {
      "provenance": [],
      "authorship_tag": "ABX9TyNsUvnsB9pMzBfQY9SEeiK6",
      "include_colab_link": true
    },
    "kernelspec": {
      "name": "python3",
      "display_name": "Python 3"
    },
    "language_info": {
      "name": "python"
    }
  },
  "cells": [
    {
      "cell_type": "markdown",
      "metadata": {
        "id": "view-in-github",
        "colab_type": "text"
      },
      "source": [
        "<a href=\"https://colab.research.google.com/github/Abyan-1/2025_PBO_TI1C/blob/main/Jobsheet2_PBO.ipynb\" target=\"_parent\"><img src=\"https://colab.research.google.com/assets/colab-badge.svg\" alt=\"Open In Colab\"/></a>"
      ]
    },
    {
      "cell_type": "markdown",
      "source": [
        "#Praktikum"
      ],
      "metadata": {
        "id": "ZAebxKVWglTm"
      }
    },
    {
      "cell_type": "markdown",
      "source": [
        "##Membuat dan Menggunakan Fungsi"
      ],
      "metadata": {
        "id": "dJfpyqaNgp-C"
      }
    },
    {
      "cell_type": "code",
      "source": [
        "print(\"Ini adalah contoh fungsi buillt-in\")\n",
        "kata = \"Pemrograman\"\n",
        "panjang_kata = len(kata)\n",
        "print(f\"Panjang kata '{kata}' adalah: {panjang_kata}\")\n",
        "\n",
        "angka = [10, 5, 30, 40, 25]\n",
        "nilai_max = max(angka)\n",
        "print(f\"Nilai maksimum dalam daftar {angka} adalah: {nilai_max}\")\n",
        "\n",
        "def cetak_kuadrat(angka):\n",
        "  print(f\"Kuadrat dari {angka} adalah: {angka ** 2}\")\n",
        "def hitung_luas_persegi_panjang(panjang, lebar):\n",
        "  return panjang * lebar\n",
        "def info_mahasiswa(nama, umur, ipk):\n",
        "  print(f\"Nama: {nama}, Umur: {umur}, IPK: {ipk}\")\n",
        "def sapa_pengguna(nama):\n",
        "  print(f\"Halo, {nama}, Selamat datang di dunia Python.\")\n",
        "def hitung_keliling_persegi(sisi):\n",
        "  return 4 * sisi\n",
        "\n",
        "cetak_kuadrat(5)\n",
        "luas = hitung_luas_persegi_panjang(10, 5)\n",
        "print(f\"Luas persegi panjang: {luas}\")\n",
        "info_mahasiswa(\"Budi\", 22, 3.8)\n",
        "sapa_pengguna(\"Andi\")\n",
        "keliling = hitung_keliling_persegi(5)\n",
        "print(f\"Keliling persegi dengan sisi 5 adalah: {keliling}\")"
      ],
      "metadata": {
        "colab": {
          "base_uri": "https://localhost:8080/"
        },
        "id": "MQHnRZQkhI1Z",
        "outputId": "378c88d2-7fb3-4a09-ecb1-47a5586b9bcc"
      },
      "execution_count": 1,
      "outputs": [
        {
          "output_type": "stream",
          "name": "stdout",
          "text": [
            "Ini adalah contoh fungsi buillt-in\n",
            "Panjang kata 'Pemrograman' adalah: 11\n",
            "Nilai maksimum dalam daftar [10, 5, 30, 40, 25] adalah: 40\n",
            "Kuadrat dari 5 adalah: 25\n",
            "Luas persegi panjang: 50\n",
            "Nama: Budi, Umur: 22, IPK: 3.8\n",
            "Halo, Andi, Selamat datang di dunia Python.\n",
            "Keliling persegi dengan sisi 5 adalah: 20\n"
          ]
        }
      ]
    },
    {
      "cell_type": "markdown",
      "source": [
        "##Modularisasi Kode dengan Fungsi"
      ],
      "metadata": {
        "id": "IlQmIOl8gu5c"
      }
    },
    {
      "cell_type": "code",
      "source": [
        "import geometri\n",
        "def main():\n",
        "    luas_persegi = geometri.hitung_luas_persegi(5)\n",
        "    print(f\"Luas persegi dengan didi 5 adalah: {luas_persegi}\")\n",
        "\n",
        "    luas_persegi_panjang = geometri.hitung_luas_persegi_panjang(10, 5)\n",
        "    print(f\"Luas persegi panjang dengan panjang 10 dan lebar 5 adalah: {luas_persegi_panjang}\")\n",
        "\n",
        "    luas_lingkaran = geometri.hitung_luas_lingkaran(7)\n",
        "    print(f\"Luas lingkaran dengan jari-jari 7 adalah: {luas_lingkaran}\")\n",
        "\n",
        "if __name__ == \"__main__\":\n",
        "  main()"
      ],
      "metadata": {
        "id": "B_t2PnKam9TJ",
        "outputId": "cd0de5ba-4dca-4579-fb93-e14e47ab3f3d",
        "colab": {
          "base_uri": "https://localhost:8080/"
        }
      },
      "execution_count": 6,
      "outputs": [
        {
          "output_type": "stream",
          "name": "stdout",
          "text": [
            "Luas persegi dengan didi 5 adalah: 25\n",
            "Luas persegi panjang dengan panjang 10 dan lebar 5 adalah: 50\n",
            "Luas lingkaran dengan jari-jari 7 adalah: 152.58599999999998\n"
          ]
        }
      ]
    },
    {
      "cell_type": "markdown",
      "source": [
        "##Membuat Kelas Sederhana"
      ],
      "metadata": {
        "id": "a3mka6S4g2ZD"
      }
    },
    {
      "cell_type": "code",
      "source": [
        "class Buku:\n",
        "  def __init__(self, judul, pengarang, tahun_terbit):\n",
        "    self.judul = judul\n",
        "    self.pengarang = pengarang\n",
        "    self.tahun_terbit = tahun_terbit\n",
        "    self.status = \"Tersedia\"\n",
        "  def tampilkan_info(self):\n",
        "    print(f\"Judul: {self.judul}\")\n",
        "    print(f\"Pengarang: {self.pengarang}\")\n",
        "    print(f\"Tahun Terbit: {self.tahun_terbit}\")\n",
        "    print(f\"Status: {self.status}\")\n",
        "  def pinjam(self):\n",
        "    if self.status ==\"Tersedia\":\n",
        "      self.status = \"Dipinjam\"\n",
        "      print(f\"Buku '{self.judul}' telah dipinjam.\")\n",
        "    else:\n",
        "      print(f\"Buku '{self.judul}' sedang dipinjam.\")\n",
        "  def kembalikan(self):\n",
        "    if self.status == \"Dipinjam\":\n",
        "      self.status = \"Tersedia\"\n",
        "      print(f\"Buku '{self.judul}' telah dikembalikan.\")\n",
        "    else:\n",
        "      print(f\"Buku '{self.judul}' tidak sedang dipinjam.\")\n",
        "\n",
        "#membuat objek\n",
        "buku1 = Buku(\"Python Programming\", \"John Doe\", 2021)\n",
        "buku2 = Buku(\"Data Science untuk Pemula\", \"Jane Smith\", 2020)\n",
        "\n",
        "buku1.tampilkan_info()\n",
        "buku2.pinjam()\n",
        "\n",
        "buku2.kembalikan()\n",
        "buku1.pinjam()\n",
        "buku1.tampilkan_info()\n",
        "\n",
        "class Mahasiswa:\n",
        "  def __init__(self, nama, nim, umur):\n",
        "    self.nama = nama\n",
        "    self.nim = nim\n",
        "    self.umur = umur\n",
        "  def tampilkan_info(self):\n",
        "    print(f\"Nama {self.nama}\")\n",
        "    print(f\"NIM {self.nim}\")\n",
        "    print(f\"Umur {self.umur} tahun\")\n",
        "  def ubah_umur(self, umur_baru):\n",
        "    self.umur = umur_baru\n",
        "\n",
        "mahasiswa1 = Mahasiswa(\"Andi\", \"12345\", 20)\n",
        "mahasiswa2 = Mahasiswa(\"Budi\", \"67890\", 22)\n",
        "\n",
        "mahasiswa1.tampilkan_info()\n",
        "print()\n",
        "mahasiswa2.tampilkan_info()\n",
        "\n",
        "mahasiswa1.ubah_umur(21)\n",
        "\n",
        "print(\"\\nSetelah mengubah umur mahasiswa1:\")\n",
        "mahasiswa1.tampilkan_info()"
      ],
      "metadata": {
        "colab": {
          "base_uri": "https://localhost:8080/"
        },
        "id": "PBBgdVSKhKUS",
        "outputId": "19cecaa1-3d64-4457-af81-fdf66a689589"
      },
      "execution_count": 8,
      "outputs": [
        {
          "output_type": "stream",
          "name": "stdout",
          "text": [
            "Judul: Python Programming\n",
            "Pengarang: John Doe\n",
            "Tahun Terbit: 2021\n",
            "Status: Tersedia\n",
            "Buku 'Data Science untuk Pemula' telah dipinjam.\n",
            "Buku 'Data Science untuk Pemula' telah dikembalikan.\n",
            "Buku 'Python Programming' telah dipinjam.\n",
            "Judul: Python Programming\n",
            "Pengarang: John Doe\n",
            "Tahun Terbit: 2021\n",
            "Status: Dipinjam\n",
            "Nama Andi\n",
            "NIM 12345\n",
            "Umur 20 tahun\n",
            "\n",
            "Nama Budi\n",
            "NIM 67890\n",
            "Umur 22 tahun\n",
            "\n",
            "Setelah mengubah umur mahasiswa1:\n",
            "Nama Andi\n",
            "NIM 12345\n",
            "Umur 21 tahun\n"
          ]
        }
      ]
    },
    {
      "cell_type": "markdown",
      "source": [
        "##Membuat dan Menggunakan Method dalam Kelas"
      ],
      "metadata": {
        "id": "r7KN6Zg2hAhp"
      }
    },
    {
      "cell_type": "code",
      "source": [
        "class Mobil:\n",
        "  def __init__(self, merk, warna, tahun, harga):\n",
        "    self.merk = merk\n",
        "    self.warna = warna\n",
        "    self.tahun = tahun\n",
        "    self.harga = harga\n",
        "  def tampilkan_info(self):\n",
        "    print(f\"Mobil {self.merk} berwarna {self.warna}, tahun {self.tahun}, harga: Rp{self.harga}\")\n",
        "  def diskon(self, persen_diskon):\n",
        "    diskon_harga = self.harga * (persen_diskon / 100)\n",
        "    harga_setelah_diskon = self.harga - diskon_harga\n",
        "    print(f\"Harga setelah harga diskon {persen_diskon} %: Rp{harga_setelah_diskon}\")\n",
        "  def hitung_usia(self, tahun_sekarang):\n",
        "    usia = tahun_sekarang - self.tahun\n",
        "    return usia\n",
        "  def perbarui_harga(self, harga_baru, tahun_baru):\n",
        "    self.harga = harga_baru\n",
        "    self.tahun = tahun_baru\n",
        "    print(f\"Harga dan tahun mobil {self.merk} diperbaharui mennjadi Rp {self.harga} dan tahun {self.tahun}\")\n",
        "\n",
        "mobil1 = Mobil(\"Toyota\", \"Hitam\", 2015, 300000000)\n",
        "mobil2 = Mobil(\"Honda\", \"Merah\", 2018, 250000000)\n",
        "\n",
        "mobil1.tampilkan_info()\n",
        "mobil2.tampilkan_info()\n",
        "\n",
        "mobil1.diskon(10)\n",
        "mobil2.diskon(15)\n",
        "\n",
        "usia_mobil1 = mobil1.hitung_usia(2025)\n",
        "usia_mobil2 = mobil2.hitung_usia(2025)\n",
        "\n",
        "print(f\"Usia mobil1 pada tahun 2025: {usia_mobil1} tahun\")\n",
        "print(f\"Usia mobil2 pada tahun 2025: {usia_mobil2} tahun\")\n",
        "\n",
        "mobil1.perbarui_harga(280000000, 2022)\n",
        "mobil2.perbarui_harga(240000000, 2021)"
      ],
      "metadata": {
        "colab": {
          "base_uri": "https://localhost:8080/"
        },
        "id": "ZLMyYUJ6hKoz",
        "outputId": "4f8afd7c-7c88-4c40-97ab-1249d0e88793"
      },
      "execution_count": 9,
      "outputs": [
        {
          "output_type": "stream",
          "name": "stdout",
          "text": [
            "Mobil Toyota berwarna Hitam, tahun 2015, harga: Rp300000000\n",
            "Mobil Honda berwarna Merah, tahun 2018, harga: Rp250000000\n",
            "Harga setelah harga diskon 10 %: Rp270000000.0\n",
            "Harga setelah harga diskon 15 %: Rp212500000.0\n",
            "Usia mobil1 pada tahun 2025: 10 tahun\n",
            "Usia mobil2 pada tahun 2025: 7 tahun\n",
            "Harga dan tahun mobil Toyota diperbaharui mennjadi Rp 280000000 dan tahun 2022\n",
            "Harga dan tahun mobil Honda diperbaharui mennjadi Rp 240000000 dan tahun 2021\n"
          ]
        }
      ]
    }
  ]
}