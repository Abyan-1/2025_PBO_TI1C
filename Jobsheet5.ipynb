{
  "nbformat": 4,
  "nbformat_minor": 0,
  "metadata": {
    "colab": {
      "provenance": [],
      "authorship_tag": "ABX9TyPlGBHMk/HDxkUTtSvCz7k5",
      "include_colab_link": true
    },
    "kernelspec": {
      "name": "python3",
      "display_name": "Python 3"
    },
    "language_info": {
      "name": "python"
    }
  },
  "cells": [
    {
      "cell_type": "markdown",
      "metadata": {
        "id": "view-in-github",
        "colab_type": "text"
      },
      "source": [
        "<a href=\"https://colab.research.google.com/github/Abyan-1/2025_PBO_TI1C/blob/main/Jobsheet5.ipynb\" target=\"_parent\"><img src=\"https://colab.research.google.com/assets/colab-badge.svg\" alt=\"Open In Colab\"/></a>"
      ]
    },
    {
      "cell_type": "markdown",
      "source": [
        "# Praktikum 1"
      ],
      "metadata": {
        "id": "yekz4HzBeQ_z"
      }
    },
    {
      "cell_type": "code",
      "execution_count": null,
      "metadata": {
        "id": "QDQRVr3SaGVj",
        "outputId": "d53e19df-e8c8-4253-e4cb-6c906fc31b8d",
        "colab": {
          "base_uri": "https://localhost:8080/"
        }
      },
      "outputs": [
        {
          "output_type": "stream",
          "name": "stdout",
          "text": [
            "\n",
            "Aksi Burung\n",
            "-- Aksi untuk Elang Jawa --\n",
            "Elang Jawa terbang tinggi melayang di angkasa.\n",
            "Elang Jawa berteriak nyaring!\n",
            "---------------\n",
            "-- Aksi untuk Pipit Gereja --\n",
            "Pipit Gereja terbang cepat di antara pepohonan.\n",
            "Pipit Gereja berkicau dengan merdu: Cit Cit!\n",
            "---------------\n",
            "-- Aksi untuk Burung Misterius --\n",
            "Burung Misterius terbang dengan cara umum.\n",
            "Burung Misterius mengeluarkan suara burung.\n",
            "---------------\n"
          ]
        }
      ],
      "source": [
        "# Kelas Induk\n",
        "class Burung:\n",
        "  def __init__(self, nama):\n",
        "    self.nama = nama\n",
        "\n",
        "  def terbang(self):\n",
        "    print(f\"{self.nama} terbang dengan cara umum.\")\n",
        "\n",
        "  def bersuara(self):\n",
        "    print(f\"{self.nama} mengeluarkan suara burung.\")\n",
        "\n",
        "#kelas Anak 1\n",
        "class Elang(Burung):\n",
        "  def __init__(self, nama, rentang_sayap):\n",
        "    super(). __init__ (nama)\n",
        "    self.rentang_sayap = rentang_sayap\n",
        "\n",
        "  # Override\n",
        "  def terbang(self):\n",
        "    print(f\"{self.nama} terbang tinggi melayang di angkasa.\")\n",
        "\n",
        "  # Override\n",
        "  def bersuara(self):\n",
        "    print(f\"{self.nama} berteriak nyaring!\")\n",
        "\n",
        "# Kelas Anak 2\n",
        "class Pipit(Burung):\n",
        "  def __init__(self, nama, warna_bulu):\n",
        "    super().__init__(nama)\n",
        "    self.warna_bulu = warna_bulu\n",
        "\n",
        "  # Override\n",
        "  def terbang(self):\n",
        "    print(f\"{self.nama} terbang cepat di antara pepohonan.\")\n",
        "\n",
        "  # Override\n",
        "  def bersuara(self):\n",
        "    print(f\"{self.nama} berkicau dengan merdu: Cit Cit!\")\n",
        "\n",
        "#fungsi yang memanfaatkan polimorfisme\n",
        "def demontrasi_aksi_burung(daftar_burung):\n",
        "    print(\"\\nAksi Burung\")\n",
        "    for burung in daftar_burung:\n",
        "      print(f\"-- Aksi untuk {burung.nama} --\")\n",
        "  # Panggilan metode yang sama, tapi perilaku berbeda tergantung objek\n",
        "      burung.terbang()\n",
        "      burung.bersuara()\n",
        "      print(\"-\"* 15)\n",
        "\n",
        "# Kode Utama\n",
        "if __name__ == \"__main__\":\n",
        "  elang_jawa = Elang (\"Elang Jawa\", 1.5)\n",
        "  pipit_gereja = Pipit(\"Pipit Gereja\", \"Coklat\")\n",
        "  burung_aneh = Burung(\"Burung Misterius\")\n",
        "  koleksi_burung = [elang_jawa, pipit_gereja, burung_aneh]\n",
        "  demontrasi_aksi_burung(koleksi_burung)"
      ]
    },
    {
      "cell_type": "markdown",
      "source": [
        "# Praktikum 2"
      ],
      "metadata": {
        "id": "adJ53H1qlFJK"
      }
    },
    {
      "cell_type": "code",
      "source": [
        "class Kucing :\n",
        "  def bersuara(self):\n",
        "    print(\"Kucing: Meow!\")\n",
        "class Anjing :\n",
        "  def bersuara(self):\n",
        "    print(\"Anjing: Guk Guk!\")\n",
        "class Bebek :\n",
        "  def bersuara(self):\n",
        "    print(\"Bebek: Kwek Kwek!\")\n",
        "class Mobil :\n",
        "  def jalankan(self):\n",
        "    print(\"Mobil: Brummm!\")\n",
        "\n",
        "def buat_suara (objek_yang_bisa_bersuara) :\n",
        "  try:\n",
        "    objek_yang_bisa_bersuara.bersuara()\n",
        "  except AttributeError:\n",
        "    print(f'Objek{type(objek_yang_bisa_bersuara).__name__} tidak bisa bersuara.')\n",
        "\n",
        "#kode utama\n",
        "if __name__ == \"__main__\":\n",
        "  kucing1 = Kucing()\n",
        "  anjing1 = Anjing()\n",
        "  bebek1 = Bebek()\n",
        "  mobil1 = Mobil()\n",
        "\n",
        "  daftar_objek = [kucing1, anjing1, bebek1, mobil1]\n",
        "\n",
        "  print(\"Demonstrasi Duck Typing:\")\n",
        "  for item in daftar_objek:\n",
        "    buat_suara(item)"
      ],
      "metadata": {
        "id": "DWmA57h6lII6",
        "outputId": "60190ae5-6a76-4233-9b21-39e17c5dd719",
        "colab": {
          "base_uri": "https://localhost:8080/"
        }
      },
      "execution_count": null,
      "outputs": [
        {
          "output_type": "stream",
          "name": "stdout",
          "text": [
            "Demonstrasi Duck Typing:\n",
            "Kucing: Meow!\n",
            "Anjing: Guk Guk!\n",
            "Bebek: Kwek Kwek!\n",
            "ObjekMobil tidak bisa bersuara.\n"
          ]
        }
      ]
    },
    {
      "cell_type": "markdown",
      "source": [
        "# Praktikum 3"
      ],
      "metadata": {
        "id": "poBGoy9ipK60"
      }
    },
    {
      "cell_type": "code",
      "source": [
        "class KalkulatorSederhana:\n",
        "  def __init__(self, nama=\"Kalkulator\"):\n",
        "    self.nama = nama\n",
        "    print(f\"{self.nama} siap digunakan.\")\n",
        "\n",
        "  def tambah(self, *args):\n",
        "    \"\"\"\n",
        "    Metode ini menjumlahkan semua argumen angka yang diberikan.\n",
        "    Menerima sejumlah argumen posisi menggunakan *args\n",
        "    \"\"\"\n",
        "    print(f\"n\\Memanggil metode tambah dengan argumen: {args}\")\n",
        "    if not args:\n",
        "      print(\"Tidak ada angka untuk dijumlahkan.\")\n",
        "      return 0\n",
        "\n",
        "    total = 0\n",
        "    valid_input = True\n",
        "    for angka in args:\n",
        "\n",
        "      if isinstance(angka,(int, float)):\n",
        "        total+= angka\n",
        "      else:\n",
        "        print(f\"Peringatan: Argumen '{angka} bukan angka dan akan diabaikan.\")\n",
        "        valid_input = False\n",
        "    if valid_input:\n",
        "      print(f\"Hasil penjumlahan (dengan beberapa input diabaikan): {total}\")\n",
        "    return total\n",
        "\n",
        "# Kode Utama\n",
        "if __name__ == \"__main__\":\n",
        "  calc = KalkulatorSederhana(\"Calc-01\")\n",
        "\n",
        "  print(\"\\n--- Percobaan Penjumlahan ---\")\n",
        "  calc.tambah(5, 10)\n",
        "  calc.tambah(2,3,5,10)\n",
        "  calc.tambah(100)\n",
        "  calc.tambah()\n",
        "  calc.tambah(1,2,\"tiga\",4,5.5)"
      ],
      "metadata": {
        "id": "Y58z5GDcpNdB",
        "outputId": "615d761d-1301-40a0-889e-9a6ec8a9ede1",
        "colab": {
          "base_uri": "https://localhost:8080/"
        }
      },
      "execution_count": null,
      "outputs": [
        {
          "output_type": "stream",
          "name": "stdout",
          "text": [
            "Calc-01 siap digunakan.\n",
            "\n",
            "--- Percobaan Penjumlahan ---\n",
            "n\\Memanggil metode tambah dengan argumen: (5, 10)\n",
            "Hasil penjumlahan (dengan beberapa input diabaikan): 15\n",
            "n\\Memanggil metode tambah dengan argumen: (2, 3, 5, 10)\n",
            "Hasil penjumlahan (dengan beberapa input diabaikan): 20\n",
            "n\\Memanggil metode tambah dengan argumen: (100,)\n",
            "Hasil penjumlahan (dengan beberapa input diabaikan): 100\n",
            "n\\Memanggil metode tambah dengan argumen: ()\n",
            "Tidak ada angka untuk dijumlahkan.\n",
            "n\\Memanggil metode tambah dengan argumen: (1, 2, 'tiga', 4, 5.5)\n",
            "Peringatan: Argumen 'tiga bukan angka dan akan diabaikan.\n"
          ]
        }
      ]
    },
    {
      "cell_type": "markdown",
      "source": [
        "# Praktikum 4"
      ],
      "metadata": {
        "id": "Td4BGrh8u6lX"
      }
    },
    {
      "cell_type": "code",
      "source": [
        "class DataProcessor:\n",
        "  def __init__(self,processor_id):\n",
        "    self.processor_id = processor_id\n",
        "    print(f\"DataProcessor {self.processor_id} siap.\")\n",
        "\n",
        "  def process(self, *args, **kwargs):\n",
        "    \"\"\"\n",
        "    Metode ini memproses data dengan argumen posisi (*args)\n",
        "    dan kata kunci(**kwargs) yang jumlahnya varialbel.\n",
        "    \"\"\"\n",
        "    print(f\"\\n---{self.processor_id} Memproses data ---\")\n",
        "\n",
        "    if args:\n",
        "      print(\"Argumen Posisi Diterima:\")\n",
        "      for i, arg in enumerate(args):\n",
        "        print(f\"args[{i}]: {arg} (tipe: {type(arg).__name__})\")\n",
        "    else:\n",
        "      print(\"Tidak ada argumen posisi.\")\n",
        "    if kwargs:\n",
        "      print(\"Argumen Kata Kunci Diterima\")\n",
        "      for kunci, nilai in kwargs.items():\n",
        "        print(f\" {kunci}: {nilai} (tipe: {type(nilai).__name__})\")\n",
        "    else:\n",
        "      print(\"Tidak ada argumen kata kunci.\")\n",
        "      print(\"------------------------------------\")\n",
        "\n",
        "# Kode Utama\n",
        "if __name__ == \"__main__\":\n",
        "  processor1 = DataProcessor(\"DP-001\")\n",
        "\n",
        "  print(\"\\nPanggilan 1 : Tanpa Argumen tambahan\")\n",
        "  processor1.process()\n",
        "\n",
        "  print(\"\\nPanggilan 2 : Hanya argumen posisi\")\n",
        "  processor1.process(100, \"Status OK\", 99.9, False)\n",
        "\n",
        "  print(\"\\nPanggilan 3 : Hanya argumen kata kunci\")\n",
        "  processor1.process(user=\"admin\", level=5, mode=\"verbose\")\n",
        "\n",
        "  print(\"\\nPanggilan 4 : Kombinasi argumen posiis dan kata kunci\")\n",
        "  processor1.process(\"Task-A\",\"Task-B\", status=\"Running\", priority=\"High\",thread_id=54321)\n",
        "\n",
        "  print(\"\\nPanggilan 5: Argumen posisi kompleks\")\n",
        "  list_ids = [\"A1\",\"B2\",\"C3\"]\n",
        "  dict_params = {\"timeout\": 30, \"retry\": 3}\n",
        "  processor1.process(list_ids, dict_params, owner=\"system\", enabled=True)"
      ],
      "metadata": {
        "id": "eCnECdhXu8WC",
        "outputId": "c537ae22-e4e4-4a43-c7b5-a4e839583414",
        "colab": {
          "base_uri": "https://localhost:8080/"
        }
      },
      "execution_count": null,
      "outputs": [
        {
          "output_type": "stream",
          "name": "stdout",
          "text": [
            "DataProcessor DP-001 siap.\n",
            "\n",
            "Panggilan 1 : Tanpa Argumen tambahan\n",
            "\n",
            "---DP-001 Memproses data ---\n",
            "Tidak ada argumen posisi.\n",
            "Tidak ada argumen kata kunci.\n",
            "------------------------------------\n",
            "\n",
            "Panggilan 2 : Hanya argumen posisi\n",
            "\n",
            "---DP-001 Memproses data ---\n",
            "Argumen Posisi Diterima:\n",
            "args[0]: 100 (tipe: int)\n",
            "args[1]: Status OK (tipe: str)\n",
            "args[2]: 99.9 (tipe: float)\n",
            "args[3]: False (tipe: bool)\n",
            "Tidak ada argumen kata kunci.\n",
            "------------------------------------\n",
            "\n",
            "Panggilan 3 : Hanya argumen kata kunci\n",
            "\n",
            "---DP-001 Memproses data ---\n",
            "Tidak ada argumen posisi.\n",
            "Argumen Kata Kunci Diterima\n",
            " user: admin (tipe: str)\n",
            " level: 5 (tipe: int)\n",
            " mode: verbose (tipe: str)\n",
            "\n",
            "Panggilan 4 : Kombinasi argumen posiis dan kata kunci\n",
            "\n",
            "---DP-001 Memproses data ---\n",
            "Argumen Posisi Diterima:\n",
            "args[0]: Task-A (tipe: str)\n",
            "args[1]: Task-B (tipe: str)\n",
            "Argumen Kata Kunci Diterima\n",
            " status: Running (tipe: str)\n",
            " priority: High (tipe: str)\n",
            " thread_id: 54321 (tipe: int)\n",
            "\n",
            "Panggilan 5: Argumen posisi kompleks\n",
            "\n",
            "---DP-001 Memproses data ---\n",
            "Argumen Posisi Diterima:\n",
            "args[0]: ['A1', 'B2', 'C3'] (tipe: list)\n",
            "args[1]: {'timeout': 30, 'retry': 3} (tipe: dict)\n",
            "Argumen Kata Kunci Diterima\n",
            " owner: system (tipe: str)\n",
            " enabled: True (tipe: bool)\n"
          ]
        }
      ]
    },
    {
      "cell_type": "markdown",
      "source": [
        "# Praktikum 5"
      ],
      "metadata": {
        "id": "POPEinuW3LLz"
      }
    },
    {
      "cell_type": "code",
      "source": [
        "import math\n",
        "class Bentuk:\n",
        "  def nama_bentuk(self):\n",
        "    return \"Bentuk Generik\"\n",
        "  def hitung_luas(self):\n",
        "    raise NotImplementedError(\"Subclass harus mengimplementasikan metode ini\")\n",
        "class Lingkaran(Bentuk):\n",
        "  def __init__(self,radius):\n",
        "    self.radius = radius\n",
        "  #Override\n",
        "  def nama_bentuk(self):\n",
        "    return \"Lingkaran\"\n",
        "  def hitung_luas(self):\n",
        "    return math.pi * (self.radius ** 2)\n",
        "class Persegi(Bentuk):\n",
        "  def __init__(self, sisi):\n",
        "    self.sisi = sisi\n",
        "  #Override\n",
        "  def hitung_luas(self):\n",
        "    return self.sisi * self.sisi\n",
        "#--- Definisi Kelas Lain (Tidak Terkait Inheritance dengan Bentuk) ---\n",
        "class TaplakMeja:\n",
        "  def __init__(self,panjang,lebar):\n",
        "    self.panjang = panjang\n",
        "    self.lebar = lebar\n",
        "  def hitung_luas(self):\n",
        "    return self.panjang * self.lebar\n",
        "  def deskripsi (self):\n",
        "    return f\"Taplak Meja {self.panjang} x {self.lebar}\"\n",
        "\n",
        "#Fungsu Polimorfik\n",
        "def tampilkan_info_luas(objek_dengan_luas):\n",
        "  print(\"-\" * 20)\n",
        "  try:\n",
        "      luas = objek_dengan_luas.hitung_luas()\n",
        "      try:\n",
        "        nama = objek_dengan_luas.nama_bentuk()\n",
        "      except AttributeError:\n",
        "        nama = type(objek_dengan_luas).__name__\n",
        "      print(f\"Objek: {nama}\")\n",
        "      print(f\"Luas: {luas:.2f}\")\n",
        "\n",
        "  except AttributeError:\n",
        "      print(f\"Objek {type(objek_dengan_luas).__name__} tidak dapat dihitung luasnya (metode tidak ditemukan).\")\n",
        "  except NotImplementedError:\n",
        "      print(f\"Metode 'hitung_luas'belum diimplementasikan untuk {type(objek_dengan_luas).__name__}.\")\n",
        "\n",
        "#Kode UTama\n",
        "if __name__ == \"__main__\":\n",
        "  lingkaran1 = Lingkaran(7)\n",
        "  persegi1 = Persegi(5)\n",
        "  taplak1 = TaplakMeja(1.5,0.8)\n",
        "  bentuk_dasar = Bentuk()\n",
        "  string_biasa = \"Ini string\"\n",
        "\n",
        "  daftar_item = [lingkaran1, persegi1, taplak1, bentuk_dasar, string_biasa]\n",
        "\n",
        "  print(\"Menampilkan Info Luas (Polimorfisme Campuran):\")\n",
        "  for item in daftar_item:\n",
        "      tampilkan_info_luas(item)"
      ],
      "metadata": {
        "id": "LNYSbVgw3NNk",
        "outputId": "408d6f09-65d5-466f-8668-160442ee3775",
        "colab": {
          "base_uri": "https://localhost:8080/"
        }
      },
      "execution_count": null,
      "outputs": [
        {
          "output_type": "stream",
          "name": "stdout",
          "text": [
            "Menampilkan Info Luas (Polimorfisme Campuran):\n",
            "--------------------\n",
            "Objek: Lingkaran\n",
            "Luas: 153.94\n",
            "--------------------\n",
            "Objek: Bentuk Generik\n",
            "Luas: 25.00\n",
            "--------------------\n",
            "Objek: TaplakMeja\n",
            "Luas: 1.20\n",
            "--------------------\n",
            "Metode 'hitung_luas'belum diimplementasikan untuk Bentuk.\n",
            "--------------------\n",
            "Objek str tidak dapat dihitung luasnya (metode tidak ditemukan).\n"
          ]
        }
      ]
    },
    {
      "cell_type": "markdown",
      "source": [
        "#Praktikum 6"
      ],
      "metadata": {
        "id": "BZ47tOaXQsl4"
      }
    },
    {
      "cell_type": "code",
      "source": [
        "# --- Defini Kelas Burung ---\n",
        "class Burung:\n",
        "  def __init__(self, nama):\n",
        "    self.nama = nama\n",
        "  def terbang(self):\n",
        "    print(f\"{self.nama} terbang dengan cara umum.\")\n",
        "  def bersuara(self):\n",
        "    print(f\"{self.nama} mengeluarkan suara burung.\")\n",
        "\n",
        "class Elang(Burung):\n",
        "  def __init__(self,nama,rentang_sayap):\n",
        "    super().__init__(nama)\n",
        "    self.retang_sayap = rentang_sayap\n",
        "  #Override\n",
        "  def terbang(self):\n",
        "    print(f\"{self.nama} terbang tinggi melayang di angkasa.\")\n",
        "  def bersuara(self):\n",
        "    print(f\"{self.nama} berteriak nyaring!\")\n",
        "  def berburu(self):\n",
        "    print(f\"{self.nama} sedang mencari mangsa dari ketinggian.\")\n",
        "\n",
        "class Pipit(Burung):\n",
        "  def __init__(self,nama,warna_bulu):\n",
        "    super().__init__(nama)\n",
        "    self.warna_bulu = warna_bulu\n",
        "  #Override\n",
        "  def terbang(self):\n",
        "    print(f\"{self.nama} terbang cepat diantara pepohonan.\")\n",
        "  def bersuara(self):\n",
        "    print(f\"{self.nama} berkicau merdu: Cit Cit!\")\n",
        "  def membangun_sarang(self):\n",
        "    print(f\"{self.nama} sedang mengumpulkan ranting untuk sarang.\")\n",
        "\n",
        "# -- Fungsi yang memanfaatkan polimorfisme dan isinstance() ---\n",
        "def interaksi_dengan_burung(burung):\n",
        "  print(f\"\\n--- Berinteraksi dengan {type(burung).__name__}: {getattr(burung,'nama','Objek tidak dikenal')} ---\")\n",
        "  if isinstance(burung, Burung):\n",
        "    burung.terbang()\n",
        "    burung.bersuara()\n",
        "    if isinstance(burung,Elang):\n",
        "      print(\"-> Ini adalah Elang!\")\n",
        "      burung.berburu()\n",
        "    elif isinstance(burung,Pipit):\n",
        "      print(\"-> Ini adalah Pipit!\")\n",
        "      burung.membangun_sarang()\n",
        "    else:\n",
        "      print(\"-> Ini adalah burung jenis umum (bukan Elang/Pipit).\")\n",
        "  else:\n",
        "      print(\"-> Objek ini bukan termasuk jenis Burung.\")\n",
        "  print(\"-\" * 25)\n",
        "\n",
        "# --- Kode Utama ---\n",
        "if __name__ == \"__main__\":\n",
        "  elang_sumatra = Elang(\"Elang Sumatra\",1.8)\n",
        "  pipit_rumah = Pipit(\"Pipit Rumah\", \"Abu-abu\")\n",
        "  merak = Burung(\"Merak\")\n",
        "  kucing_tetangga = \"Meong\"\n",
        "\n",
        "  koleksi_makhluk = [elang_sumatra, pipit_rumah, kucing_tetangga]\n",
        "  for makhluk in koleksi_makhluk:\n",
        "    interaksi_dengan_burung(makhluk)"
      ],
      "metadata": {
        "id": "FuloadzKQv1R",
        "outputId": "85cdbfd6-59b7-4da1-a2f2-2fa99e6cb1b1",
        "colab": {
          "base_uri": "https://localhost:8080/"
        }
      },
      "execution_count": 9,
      "outputs": [
        {
          "output_type": "stream",
          "name": "stdout",
          "text": [
            "\n",
            "--- Berinteraksi dengan Elang: Elang Sumatra ---\n",
            "Elang Sumatra terbang tinggi melayang di angkasa.\n",
            "Elang Sumatra berteriak nyaring!\n",
            "-> Ini adalah Elang!\n",
            "Elang Sumatra sedang mencari mangsa dari ketinggian.\n",
            "-------------------------\n",
            "\n",
            "--- Berinteraksi dengan Pipit: Pipit Rumah ---\n",
            "Pipit Rumah terbang cepat diantara pepohonan.\n",
            "Pipit Rumah berkicau merdu: Cit Cit!\n",
            "-> Ini adalah Pipit!\n",
            "Pipit Rumah sedang mengumpulkan ranting untuk sarang.\n",
            "-------------------------\n",
            "\n",
            "--- Berinteraksi dengan str: Objek tidak dikenal ---\n",
            "-> Objek ini bukan termasuk jenis Burung.\n",
            "-------------------------\n"
          ]
        }
      ]
    },
    {
      "cell_type": "markdown",
      "source": [
        "# Punugasan"
      ],
      "metadata": {
        "id": "mI7_MIQKSAE1"
      }
    },
    {
      "cell_type": "code",
      "source": [
        "# Kelas Induk\n",
        "class Komputer:\n",
        "    def __init__(self, merk, processor, RAM):\n",
        "        self.merk = merk\n",
        "        self.processor = processor\n",
        "        self.RAM = RAM\n",
        "\n",
        "    def info_spesifikasi(self):\n",
        "        return f\"Merek: {self.merk}, Processor: {self.processor}, RAM: {self.RAM} GB\"\n",
        "\n",
        "    def menjalankan_aplikasi(self, nama_aplikasi):\n",
        "        print(f\"{self.merk} menjalankan aplikasi {nama_aplikasi}\")\n",
        "\n",
        "    def upgrade_RAM(self, tambahan=4):\n",
        "        self.RAM += tambahan\n",
        "        print(f\"RAM {self.merk} di-upgrade menjadi {self.RAM} GB\")\n",
        "\n",
        "\n",
        "# Kelas Turunan 1 - Laptop\n",
        "class Laptop(Komputer):\n",
        "    def __init__(self, merk, processor, RAM, ukuran_layar, berat):\n",
        "        super().__init__(merk, processor, RAM)\n",
        "        self.ukuran_layar = ukuran_layar\n",
        "        self.berat = berat\n",
        "\n",
        "    def info_spesifikasi(self):\n",
        "        base_info = super().info_spesifikasi()\n",
        "        return f\"{base_info}, Ukuran Layar: {self.ukuran_layar} inch, Berat: {self.berat} Kg\"\n",
        "\n",
        "\n",
        "# Kelas Turunan 2 - Desktop\n",
        "class Desktop(Komputer):\n",
        "    def __init__(self, merk, processor, RAM, jenis_casing, monitor_eksternal):\n",
        "        super().__init__(merk, processor, RAM)\n",
        "        self.jenis_casing = jenis_casing\n",
        "        self.monitor_eksternal = monitor_eksternal\n",
        "\n",
        "    def info_spesifikasi(self):\n",
        "        base_info = super().info_spesifikasi()\n",
        "        monitor_status = \"Ya\" if self.monitor_eksternal else \"Tidak\"\n",
        "        return f\"{base_info}, Jenis Casing: {self.jenis_casing}, Monitor Eksternal: {monitor_status}\"\n",
        "\n",
        "\n",
        "# Demonstrasi Polimorfisme\n",
        "def cetak_semua_spesifikasi(daftar_komputer):\n",
        "    print(\"\\n--- Info Spesifikasi Semua Komputer ---\")\n",
        "    for komputer in daftar_komputer:\n",
        "        print(komputer.info_spesifikasi())\n",
        "\n",
        "\n",
        "# Kode Utama\n",
        "if __name__ == \"__main__\":\n",
        "    # Membuat objek\n",
        "    laptop1 = Laptop(\"Lenovo\", \"Intel i5\", 24, 15.6, 2.3)\n",
        "    desktop1 = Desktop(\"Asus\", \"AMD Ryzen 7\", 16, \"Mini-PC\", True)\n",
        "\n",
        "    # Masukkan objek ke dalam list\n",
        "    daftar_komputer = [laptop1, desktop1]\n",
        "\n",
        "    # Demonstrasi Polimorfisme\n",
        "    cetak_semua_spesifikasi(daftar_komputer)\n",
        "\n",
        "    # Simulasi Overloading (upgrade RAM)\n",
        "    print(\"\\n--- Upgrade RAM ---\")\n",
        "    laptop1.upgrade_RAM()\n",
        "    desktop1.upgrade_RAM(8)\n",
        "\n",
        "    # Menjalankan Aplikasi\n",
        "    print(\"\\n--- Menjalankan Aplikasi ---\")\n",
        "    laptop1.menjalankan_aplikasi(\"Google Chrome\")\n",
        "    desktop1.menjalankan_aplikasi(\"Visual Studio Code\")\n"
      ],
      "metadata": {
        "id": "FcKhILRWSCH7",
        "outputId": "dfe967ec-5854-49a6-d713-c6173c455ce5",
        "colab": {
          "base_uri": "https://localhost:8080/"
        }
      },
      "execution_count": 10,
      "outputs": [
        {
          "output_type": "stream",
          "name": "stdout",
          "text": [
            "\n",
            "--- Info Spesifikasi Semua Komputer ---\n",
            "Merek: Lenovo, Processor: Intel i5, RAM: 24 GB, Ukuran Layar: 15.6 inch, Berat: 2.3 Kg\n",
            "Merek: Asus, Processor: AMD Ryzen 7, RAM: 16 GB, Jenis Casing: Mini-PC, Monitor Eksternal: Ya\n",
            "\n",
            "--- Upgrade RAM ---\n",
            "RAM Lenovo di-upgrade menjadi 28 GB\n",
            "RAM Asus di-upgrade menjadi 24 GB\n",
            "\n",
            "--- Menjalankan Aplikasi ---\n",
            "Lenovo menjalankan aplikasi Google Chrome\n",
            "Asus menjalankan aplikasi Visual Studio Code\n"
          ]
        }
      ]
    }
  ]
}