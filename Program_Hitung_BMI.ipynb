{
  "nbformat": 4,
  "nbformat_minor": 0,
  "metadata": {
    "colab": {
      "provenance": [],
      "authorship_tag": "ABX9TyMwOfnuzSE3j625leNxtUii",
      "include_colab_link": true
    },
    "kernelspec": {
      "name": "python3",
      "display_name": "Python 3"
    },
    "language_info": {
      "name": "python"
    }
  },
  "cells": [
    {
      "cell_type": "markdown",
      "metadata": {
        "id": "view-in-github",
        "colab_type": "text"
      },
      "source": [
        "<a href=\"https://colab.research.google.com/github/Abyan-1/2025_PBO_TI1C/blob/main/Program_Hitung_BMI.ipynb\" target=\"_parent\"><img src=\"https://colab.research.google.com/assets/colab-badge.svg\" alt=\"Open In Colab\"/></a>"
      ]
    },
    {
      "cell_type": "markdown",
      "source": [
        "# Kalkulator BMI"
      ],
      "metadata": {
        "id": "5snQ7retz4zg"
      }
    },
    {
      "cell_type": "code",
      "execution_count": 1,
      "metadata": {
        "id": "23sbip1IzEAB",
        "outputId": "7990680c-dd28-4b6f-c5fa-df26b6ab3886",
        "colab": {
          "base_uri": "https://localhost:8080/"
        }
      },
      "outputs": [
        {
          "output_type": "stream",
          "name": "stdout",
          "text": [
            "Masukkan berat badan (kg): 69\n",
            "Masukkan tinggi badan (cm): 169\n",
            "Berat: 69.0\n",
            "Tinggi: 169.0\n",
            "BMI: 24.158817968558527\n",
            "Kategori: Normal\n",
            "Apakah ingin menghitung BMI lagi? (y/n): n\n",
            "Terima kasih telah menggunakan kalkulator BMI!\n"
          ]
        }
      ],
      "source": [
        "# Program Menghitung BMI dengan Penjelasan Tipe Data dan Penggunaan Dasar Python\n",
        "\n",
        "# Tipe data dasar dalam Python\n",
        "# Numerik (integer dan float)\n",
        "berat = float(input(\"Masukkan berat badan (kg): \"))  # Berat badan dalam kg\n",
        "\n",
        "tinggi_cm = float(input(\"Masukkan tinggi badan (cm): \"))  # Tinggi badan dalam cm\n",
        "\n",
        "# Konversi tinggi dari cm ke meter\n",
        "# Operasi aritmetika: pembagian dan pangkat\n",
        "\n",
        "# Tuple (tidak bisa diubah setelah dibuat)\n",
        "tuple_satuan = (\"kg\", \"cm\", \"m\")\n",
        "\n",
        "tinggi_m = tinggi_cm / 100  # Konversi ke meter\n",
        "bmi = berat / (tinggi_m ** 2)  # Menghitung BMI\n",
        "\n",
        "# Menentukan kategori BMI dengan percabangan if-elif-else\n",
        "if bmi < 18.5:\n",
        "    kategori = \"Underweight\"\n",
        "elif 18.5 <= bmi < 24.9:\n",
        "    kategori = \"Normal\"\n",
        "else:\n",
        "    kategori = \"Overweight\"\n",
        "\n",
        "# Dictionary untuk menyimpan hasil\n",
        "hasil_bmi = {\"Berat\": berat, \"Tinggi\": tinggi_cm, \"BMI\": bmi, \"Kategori\": kategori}\n",
        "\n",
        "# Menampilkan hasil menggunakan perulangan for\n",
        "for kunci, nilai in hasil_bmi.items():\n",
        "    print(f\"{kunci}: {nilai}\")\n",
        "\n",
        "# Perulangan while untuk menanyakan apakah ingin menghitung lagi\n",
        "ingin_mengulang = input(\"Apakah ingin menghitung BMI lagi? (y/n): \").lower()\n",
        "while ingin_mengulang == \"y\":\n",
        "    berat = float(input(\"Masukkan berat badan (kg): \"))\n",
        "    tinggi_cm = float(input(\"Masukkan tinggi badan (cm): \"))\n",
        "    tinggi_m = tinggi_cm / 100\n",
        "    bmi = berat / (tinggi_m ** 2)\n",
        "\n",
        "    if bmi < 18.5:\n",
        "        kategori = \"Underweight\"\n",
        "    elif 18.5 <= bmi < 24.9:\n",
        "        kategori = \"Normal\"\n",
        "    else:\n",
        "        kategori = \"Overweight\"\n",
        "\n",
        "    hasil_bmi = {\"Berat\": berat, \"Tinggi\": tinggi_cm, \"BMI\": bmi, \"Kategori\": kategori}\n",
        "    for kunci, nilai in hasil_bmi.items():\n",
        "        print(f\"{kunci}: {nilai}\")\n",
        "\n",
        "    ingin_mengulang = input(\"Apakah ingin menghitung BMI lagi? (y/n): \").lower()\n",
        "\n",
        "print(\"Terima kasih telah menggunakan kalkulator BMI!\")"
      ]
    }
  ]
}