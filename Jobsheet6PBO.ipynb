{
  "nbformat": 4,
  "nbformat_minor": 0,
  "metadata": {
    "colab": {
      "provenance": [],
      "authorship_tag": "ABX9TyNKj/4ztAnSKvcREOUJuCB/",
      "include_colab_link": true
    },
    "kernelspec": {
      "name": "python3",
      "display_name": "Python 3"
    },
    "language_info": {
      "name": "python"
    }
  },
  "cells": [
    {
      "cell_type": "markdown",
      "metadata": {
        "id": "view-in-github",
        "colab_type": "text"
      },
      "source": [
        "<a href=\"https://colab.research.google.com/github/Abyan-1/2025_PBO_TI1C/blob/main/Jobsheet6PBO.ipynb\" target=\"_parent\"><img src=\"https://colab.research.google.com/assets/colab-badge.svg\" alt=\"Open In Colab\"/></a>"
      ]
    },
    {
      "cell_type": "markdown",
      "source": [
        "#Langkah Praktikum"
      ],
      "metadata": {
        "id": "jnfO7_nK6Av4"
      }
    },
    {
      "cell_type": "markdown",
      "source": [
        "##Praktikum 1: Mendefinisikan Kelas Abstrak Sederhana"
      ],
      "metadata": {
        "id": "wtwArvW55f3z"
      }
    },
    {
      "cell_type": "code",
      "execution_count": 6,
      "metadata": {
        "id": "b2oR-cUL4DFz",
        "outputId": "6403db35-6ee8-4305-c4ed-9f75eee71d86",
        "colab": {
          "base_uri": "https://localhost:8080/"
        }
      },
      "outputs": [
        {
          "output_type": "stream",
          "name": "stdout",
          "text": [
            "Definisi Kelas Abstrak 'KendaraanAbstrak' selesai.\n",
            "\n",
            "Contoh definisi kelas anak 'Mobil' selesai.\n",
            "Inisialisasi KendaraanAbsttrak dengan merk:Toyota\n",
            "Messin mobil Toyota dinyalakan.\n",
            "Merk kendaraan ini adalah Toyota.\n",
            "Mesin mobil Toyota dimatikan\n"
          ]
        }
      ],
      "source": [
        "# Impor Komponen yang diperlukan dari modul abc\n",
        "from abc import ABC, abstractmethod\n",
        "#1. Definiskan Kelas Abstrak\n",
        "#Abstrak base class\n",
        "class KendaraanAbstrak:\n",
        "  def __init__(self,merk):\n",
        "    self.merk = merk\n",
        "    print(f\"Inisialisasi KendaraanAbsttrak dengan merk:{self.merk}\")\n",
        "  #Metode Konkret\n",
        "  def info_merk(self):\n",
        "    print(f\"Merk kendaraan ini adalah {self.merk}.\")\n",
        "#2.Definisikan Metode Abstrak\n",
        "  @abstractmethod\n",
        "  def start_mesin(self):\n",
        "    print(f\"Mesin mobil {self.merk} dinyalakan.\")\n",
        "  def stop_mesin(self):\n",
        "    print(f\"Mesin mobil {self.merk} dimatikakn.\")\n",
        "#-- Kode Utama --\n",
        "if __name__ == \"__main__\":\n",
        "  print(\"Definisi Kelas Abstrak 'KendaraanAbstrak' selesai.\")\n",
        "class Mobil(KendaraanAbstrak):\n",
        "  def start_mesin(self):\n",
        "    print (f\"Messin mobil {self.merk} dinyalakan.\")\n",
        "  def stop_mesin(self):\n",
        "    print (f\"Mesin mobil {self.merk} dimatikan\")\n",
        "\n",
        "  print(\"\\nContoh definisi kelas anak 'Mobil' selesai.\")\n",
        "mobil_contoh = Mobil (\"Toyota\")\n",
        "mobil_contoh.start_mesin()\n",
        "mobil_contoh.info_merk()\n",
        "mobil_contoh.stop_mesin()"
      ]
    },
    {
      "cell_type": "markdown",
      "source": [
        "##2.Mencoba Instansiasi Kelas Abstrak"
      ],
      "metadata": {
        "id": "uHbqlwxSCmvF"
      }
    },
    {
      "cell_type": "code",
      "source": [],
      "metadata": {
        "id": "alIHLSBOCsxq"
      },
      "execution_count": null,
      "outputs": []
    }
  ]
}