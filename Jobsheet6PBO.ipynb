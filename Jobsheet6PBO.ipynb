{
  "nbformat": 4,
  "nbformat_minor": 0,
  "metadata": {
    "colab": {
      "provenance": [],
      "authorship_tag": "ABX9TyMKbUNQftjB4s+UlwKh1B/G",
      "include_colab_link": true
    },
    "kernelspec": {
      "name": "python3",
      "display_name": "Python 3"
    },
    "language_info": {
      "name": "python"
    }
  },
  "cells": [
    {
      "cell_type": "markdown",
      "metadata": {
        "id": "view-in-github",
        "colab_type": "text"
      },
      "source": [
        "<a href=\"https://colab.research.google.com/github/Abyan-1/2025_PBO_TI1C/blob/main/Jobsheet6PBO.ipynb\" target=\"_parent\"><img src=\"https://colab.research.google.com/assets/colab-badge.svg\" alt=\"Open In Colab\"/></a>"
      ]
    },
    {
      "cell_type": "markdown",
      "source": [
        "#Langkah Praktikum"
      ],
      "metadata": {
        "id": "jnfO7_nK6Av4"
      }
    },
    {
      "cell_type": "markdown",
      "source": [
        "##Praktikum 1: Mendefinisikan Kelas Abstrak Sederhana"
      ],
      "metadata": {
        "id": "wtwArvW55f3z"
      }
    },
    {
      "cell_type": "code",
      "execution_count": null,
      "metadata": {
        "id": "b2oR-cUL4DFz",
        "outputId": "6403db35-6ee8-4305-c4ed-9f75eee71d86",
        "colab": {
          "base_uri": "https://localhost:8080/"
        }
      },
      "outputs": [
        {
          "output_type": "stream",
          "name": "stdout",
          "text": [
            "Definisi Kelas Abstrak 'KendaraanAbstrak' selesai.\n",
            "\n",
            "Contoh definisi kelas anak 'Mobil' selesai.\n",
            "Inisialisasi KendaraanAbsttrak dengan merk:Toyota\n",
            "Messin mobil Toyota dinyalakan.\n",
            "Merk kendaraan ini adalah Toyota.\n",
            "Mesin mobil Toyota dimatikan\n"
          ]
        }
      ],
      "source": [
        "# Impor Komponen yang diperlukan dari modul abc\n",
        "from abc import ABC, abstractmethod\n",
        "#1. Definiskan Kelas Abstrak\n",
        "#Abstrak base class\n",
        "class KendaraanAbstrak:\n",
        "  def __init__(self,merk):\n",
        "    self.merk = merk\n",
        "    print(f\"Inisialisasi KendaraanAbsttrak dengan merk:{self.merk}\")\n",
        "  #Metode Konkret\n",
        "  def info_merk(self):\n",
        "    print(f\"Merk kendaraan ini adalah {self.merk}.\")\n",
        "#2.Definisikan Metode Abstrak\n",
        "  @abstractmethod\n",
        "  def start_mesin(self):\n",
        "    print(f\"Mesin mobil {self.merk} dinyalakan.\")\n",
        "  def stop_mesin(self):\n",
        "    print(f\"Mesin mobil {self.merk} dimatikakn.\")\n",
        "#-- Kode Utama --\n",
        "if __name__ == \"__main__\":\n",
        "  print(\"Definisi Kelas Abstrak 'KendaraanAbstrak' selesai.\")\n",
        "class Mobil(KendaraanAbstrak):\n",
        "  def start_mesin(self):\n",
        "    print (f\"Messin mobil {self.merk} dinyalakan.\")\n",
        "  def stop_mesin(self):\n",
        "    print (f\"Mesin mobil {self.merk} dimatikan\")\n",
        "\n",
        "  print(\"\\nContoh definisi kelas anak 'Mobil' selesai.\")\n",
        "mobil_contoh = Mobil (\"Toyota\")\n",
        "mobil_contoh.start_mesin()\n",
        "mobil_contoh.info_merk()\n",
        "mobil_contoh.stop_mesin()"
      ]
    },
    {
      "cell_type": "markdown",
      "source": [
        "##2.Mencoba Instansiasi Kelas Abstrak"
      ],
      "metadata": {
        "id": "uHbqlwxSCmvF"
      }
    },
    {
      "cell_type": "code",
      "source": [
        "from abc import ABC, abstractmethod\n",
        "class MediaAbstrak (ABC):\n",
        "  def __init__(self,judul):\n",
        "    self.judul = judul\n",
        "    print(f\"Inisialisasi MediaAbstak dengan judul: {self.judul}\")\n",
        "  @abstractmethod\n",
        "  def play(self):\n",
        "    \"\"\"Metode abstrak untuk menghentikan pemutaran.\"\"\"\n",
        "    pass\n",
        "#KodeUtama\n",
        "if __name__ == \"__main__\":\n",
        "  print (\"Mencoba membuat objek dari kelas abstrak MediaAbstrak...\")\n",
        "try:\n",
        "  media = MediaAbstrak(\"Konten Abstrak\")\n",
        "  print(\"Objek berhasil dibuat(SEHARUSNYA TIDAK TERJADI).\")\n",
        "  media.play()\n",
        "except TypeError as e:\n",
        "  print(f\"\\nGAGAL membuat objek!\")\n",
        "  print(f\"Error yang muncul (sesuai harapan) : {e}\")\n",
        "  print(\"\\nIni memebutikan bahwa kelas abstrak tidak bisa diinstansiasi\")\n",
        "  print(\"jika masih memiliki metode abstrak yang belum diimplementasikan\")"
      ],
      "metadata": {
        "id": "alIHLSBOCsxq",
        "outputId": "aab39b1f-4665-4f25-b307-67993883531d",
        "colab": {
          "base_uri": "https://localhost:8080/"
        }
      },
      "execution_count": 3,
      "outputs": [
        {
          "output_type": "stream",
          "name": "stdout",
          "text": [
            "Mencoba membuat objek dari kelas abstrak MediaAbstrak...\n",
            "\n",
            "GAGAL membuat objek!\n",
            "Error yang muncul (sesuai harapan) : Can't instantiate abstract class MediaAbstrak with abstract method play\n",
            "\n",
            "Ini memebutikan bahwa kelas abstrak tidak bisa diinstansiasi\n",
            "jika masih memiliki metode abstrak yang belum diimplementasikan\n"
          ]
        }
      ]
    },
    {
      "cell_type": "markdown",
      "source": [
        "##3.Membuat Subclass Konkret - Alat Pembayaran"
      ],
      "metadata": {
        "id": "0cxDVRht_juu"
      }
    },
    {
      "cell_type": "code",
      "source": [
        "from abc import ABC, abstractmethod\n",
        "import locale\n",
        "import random\n",
        "\n",
        "try:\n",
        "  locale.setlocale(locale.LC_ALL, 'id_ID.UTF-8')\n",
        "except locale.Error:\n",
        "  print(\"Locale id_UTF-8 tidak tersedia, gunakan locale default.\")\n",
        "  locale.setlocale(locale.LC_ALL, '')\n",
        "def format_rupiah(angka):\n",
        "  return locale.currency(angka,grouping=True, symbol='Rp')\n",
        "\n",
        "class AlatPembayaranAbstrak(ABC):\n",
        "  def __init__(self, nama_metode):\n",
        "    self.nama_metode = nama_metode\n",
        "    print(f\"Inisalisasi alat pembayaran: {self.nama_metode}\")\n",
        "  def info(self):\n",
        "    print(f\"Metode Pembayaran {self.nama_metode}\")\n",
        "  @abstractmethod\n",
        "  def proses_pembayaran(self, jumlah):\n",
        "    \"\"\"\n",
        "    Metode abstrak untuk memproses pembayaran sejumlah 'jumlah'.\n",
        "    Harus dimplementasikan oleh subclass\n",
        "    Harus mengembalikan True jika berhasil, False jika gagagl.\n",
        "    \"\"\"\n",
        "    pass\n",
        "\n",
        "class KartuKredit(AlatPembayaranAbstrak):\n",
        "  def __init__(self, nomor_kartu, nama_pemilik):\n",
        "    super().__init__(\"Kartu Kredit\")\n",
        "    self.nomor_kartu = nomor_kartu[-4:]\n",
        "    self.nama_pemilik = nama_pemilik\n",
        "    print(f' -> Kartukredit ************ {self.nomor_kartu}({self.nama_pemilik}) siap.')\n",
        "  def proses_pembayaran(self, jumlah):\n",
        "    print(f\" Memproses pembayaran {format_rupiah(jumlah)} via Kartu Kredit ************{self.nomor_kartu}...\")\n",
        "    berhasil = random.choice([True, False])\n",
        "    if berhasil:\n",
        "      print(\" Pembayaran Kartu Kredit Berhasil.\")\n",
        "      return True\n",
        "    else:\n",
        "      print (\" Pembayaran Kartu Kredit Gagal (Limit tidak cukup/Error.\")\n",
        "      return False\n",
        "class  DompetDigital(AlatPembayaranAbstrak):\n",
        "  def __init__(self, nomor_telepon, nama_provider):\n",
        "    super().__init__(f\"Dompet Digital ({nama_provider})\")\n",
        "    self.nomor_telepon = nomor_telepon\n",
        "    self._saldo = random.randint(50000,500000)\n",
        "    print(f\" -> Dompet Digital {self.nomor_telepon} siap (Saldo: {format_rupiah (self._saldo)}).\")\n",
        "  def proses_pembayaran(self,jumlah):\n",
        "    print(f\" Memproses pembayran {format_rupiah(jumlah)} via Dompet Digital {self.nomor_telepon}...\")\n",
        "    if jumlah <= self._saldo:\n",
        "      self._saldo -= jumlah\n",
        "      print (f\" Saldo tersisa: {format_rupiah(self._saldo)}\")\n",
        "      return True\n",
        "    else:\n",
        "      print(\" Pembayaran Dompet Digital Gagal (Saldo tidak emncukupi).\")\n",
        "      print(f\" Saldo saat ini: {format_rupiah (self._saldo)}\")\n",
        "      return False\n",
        "#KodeUtama\n",
        "if __name__ == \"__main__\":\n",
        "  print(\"\\nMembuat Objek Alat Pembayaran ...\")\n",
        "  kartu_bca = KartuKredit(\"1234-5678-9012-3456\", \"Budi Cahyono\")\n",
        "  gopay = DompetDigital(\"08123456789\", \"GoPay\")\n",
        "  print(\"\\nMelakukan Pembayaran:\")\n",
        "  print(\"\\nMencoba bayar dengan Kartu Kredit:\")\n",
        "  kartu_bca.info()\n",
        "  status_kk = kartu_bca.proses_pembayaran(150000)\n",
        "  print(f\" Status Transaksi KK :{'Sukses' if status_kk else 'Gagal'}\")\n",
        "  print (\"\\nMencoba bayar dengan GoPay (Jumlah Kecil) :\")\n",
        "  gopay.info()\n",
        "  status_gopay1 = gopay.proses_pembayaran (75000)\n",
        "  print(f\" Status Transaksi Gopay 1 : {'Sukses' if status_gopay1 else 'Gagal'}\")\n",
        "  print(\"\\nMencoba bayar dengan GoPay (jumlah Besar) :\")\n",
        "  gopay.info()\n",
        "  status_gopay2 = gopay.proses_pembayaran(1000000)\n",
        "  print(f\" Status Transaksi Gopay 2 : {'Sukses' if status_gopay2 else 'Gagal'}\")"
      ],
      "metadata": {
        "id": "efjjcAQ9_pvT",
        "outputId": "eebe7c18-3794-4381-fb81-0291c69e0780",
        "colab": {
          "base_uri": "https://localhost:8080/"
        }
      },
      "execution_count": 21,
      "outputs": [
        {
          "output_type": "stream",
          "name": "stdout",
          "text": [
            "Locale id_UTF-8 tidak tersedia, gunakan locale default.\n",
            "\n",
            "Membuat Objek Alat Pembayaran ...\n",
            "Inisalisasi alat pembayaran: Kartu Kredit\n",
            " -> Kartukredit ************ 3456(Budi Cahyono) siap.\n",
            "Inisalisasi alat pembayaran: Dompet Digital (GoPay)\n",
            " -> Dompet Digital 08123456789 siap (Saldo: $384,294.00).\n",
            "\n",
            "Melakukan Pembayaran:\n",
            "\n",
            "Mencoba bayar dengan Kartu Kredit:\n",
            "Metode Pembayaran Kartu Kredit\n",
            " Memproses pembayaran $150,000.00 via Kartu Kredit ************3456...\n",
            " Pembayaran Kartu Kredit Berhasil.\n",
            " Status Transaksi KK :Sukses\n",
            "\n",
            "Mencoba bayar dengan GoPay (Jumlah Kecil) :\n",
            "Metode Pembayaran Dompet Digital (GoPay)\n",
            " Memproses pembayran $75,000.00 via Dompet Digital 08123456789...\n",
            " Saldo tersisa: $309,294.00\n",
            " Status Transaksi Gopay 1 : Sukses\n",
            "\n",
            "Mencoba bayar dengan GoPay (jumlah Besar) :\n",
            "Metode Pembayaran Dompet Digital (GoPay)\n",
            " Memproses pembayran $1,000,000.00 via Dompet Digital 08123456789...\n",
            " Pembayaran Dompet Digital Gagal (Saldo tidak emncukupi).\n",
            " Saldo saat ini: $309,294.00\n",
            " Status Transaksi Gopay 2 : Gagal\n"
          ]
        }
      ]
    },
    {
      "cell_type": "markdown",
      "source": [
        "##4.Menggunakan kelas Abstrak unutk Polimorfisme - Dokumen"
      ],
      "metadata": {
        "id": "kPK4MCP7SsC3"
      }
    },
    {
      "cell_type": "code",
      "source": [
        "from abc import ABC, abstractmethod\n",
        "import time\n",
        "\n",
        "#Kelas Abstrak\n",
        "class DokumenAbstrak(ABC):\n",
        "  def __init__(self, nama_file):\n",
        "    self.nama_file = nama_file\n",
        "    print (f\"Inisialisasi Dokumen : {self.nama_file}\")\n",
        "  def info_file(self):\n",
        "    print(f\"Nama File: {self.nama_file}\")\n",
        "  @abstractmethod\n",
        "  def cetak(self):\n",
        "    \"\"\"Metode abstrak unutk menyimpan dokumen.\"\"\"\n",
        "    pass\n",
        "class DokumenTeks(DokumenAbstrak):\n",
        "  def __init__ (self,nama_file, isi_teks):\n",
        "    super().__init__(nama_file)\n",
        "    self.isi_teks = isi_teks\n",
        "    print(\" -> tipe : Dokumen Teks\")\n",
        "  def cetak(self):\n",
        "    print(f\"Mencetak Dokumen Teks '{self.nama_file}':\")\n",
        "    print(\"=\"*15)\n",
        "    print(self.isi_teks)\n",
        "    print(\"=\"*15)\n",
        "  def simpan(self):\n",
        "    print(f\"Menyimpan Dokumen Teks '{self.nama_file}' ke disk ...\")\n",
        "    time.sleep(0,2)\n",
        "    print(\" -> Berhasil disimpan.\")\n",
        "class Spreadsheet(DokumenAbstrak):\n",
        "  def __init__(self,nama_file,jumlah_baris, jumlah_kolom):\n",
        "    super().__init__(nama_file)\n",
        "    self.baris = jumlah_baris\n",
        "    self.kolom = jumlah_kolom\n",
        "    print(\" -> Tipe: Spreadsheet\")\n",
        "  def cetak(self):\n",
        "    print (f\"Menyimpan Spreadsheet '{self.nama_file}' ({self.baris} baris x {self.kolom} kolom)...\")\n",
        "    print(\" (Menampilkan pritinjau...)\")\n",
        "  def simpan(self):\n",
        "    print(f\"Menyimpan Spreadsheet '{self.nama_file}' ke format .xlsx...\")\n",
        "    time.sleep(0.3)\n",
        "    print(\" -> Berhasil disimpan.\")\n",
        "#Fungsi Polimorfik\n",
        "def proses_dokumen(daftar_dokumen):\n",
        "  print(\"\\n======= MEMPROSES SEMUA DOKUMEN ======\")\n",
        "  for doc in daftar_dokumen:\n",
        "    print(f\"\\n--- Memproses {type(doc).__name__}: {doc.nama_file} ---\")\n",
        "  try:\n",
        "    doc.cetak()\n",
        "    doc.simpan()\n",
        "  except Exception as e:\n",
        "    print(\"\\n======= SELESAI MEMPROSES DOKUMEN =======\")\n",
        "#Kode Utama\n",
        "if __name__ == \"__main__\":\n",
        "  print(\"Membuat Dokumen...\")\n",
        "  dok1 = DokumenTeks(\"laporan.txt\", \"Ini adalah isi laporan singkat.\")\n",
        "  dok2 = Spreadsheet(\"data_penjualan.xlsx\", 200,15)\n",
        "  dok3 = DokumenTeks(\"catatan_rapat.txt\", \"Poin penting:\\n- Bahas budget\\n- Tentukan timeline\")\n",
        "  koleksi_dokumen = [dok1, dok2, dok3]\n",
        "  proses_dokumen(koleksi_dokumen)\n",
        "  print(f\"\\nIsi teks dok1 : \\n{dok1.isi_teks}\")"
      ],
      "metadata": {
        "id": "nQ6xWQqsTBNY",
        "outputId": "28adb9ce-41d9-454c-a709-87e672fa815c",
        "colab": {
          "base_uri": "https://localhost:8080/"
        }
      },
      "execution_count": 24,
      "outputs": [
        {
          "output_type": "stream",
          "name": "stdout",
          "text": [
            "Membuat Dokumen...\n",
            "Inisialisasi Dokumen : laporan.txt\n",
            " -> tipe : Dokumen Teks\n",
            "Inisialisasi Dokumen : data_penjualan.xlsx\n",
            " -> Tipe: Spreadsheet\n",
            "Inisialisasi Dokumen : catatan_rapat.txt\n",
            " -> tipe : Dokumen Teks\n",
            "\n",
            "======= MEMPROSES SEMUA DOKUMEN ======\n",
            "\n",
            "--- Memproses DokumenTeks: laporan.txt ---\n",
            "\n",
            "--- Memproses Spreadsheet: data_penjualan.xlsx ---\n",
            "\n",
            "--- Memproses DokumenTeks: catatan_rapat.txt ---\n",
            "Mencetak Dokumen Teks 'catatan_rapat.txt':\n",
            "===============\n",
            "Poin penting:\n",
            "- Bahas budget\n",
            "- Tentukan timeline\n",
            "===============\n",
            "Menyimpan Dokumen Teks 'catatan_rapat.txt' ke disk ...\n",
            "\n",
            "======= SELESAI MEMPROSES DOKUMEN =======\n",
            "\n",
            "Isi teks dok1 : \n",
            "Ini adalah isi laporan singkat.\n"
          ]
        }
      ]
    },
    {
      "cell_type": "markdown",
      "source": [
        "##5.Kelas Abstrak dengan Metode Konkret dan Abstrak"
      ],
      "metadata": {
        "id": "8AKnFcEKZ9Dg"
      }
    },
    {
      "cell_type": "code",
      "source": [
        "from abc import ABC, abstractmethod\n",
        "import math\n",
        "\n",
        "#Kelas Abstrak\n",
        "class BangunDatarAbstrak(ABC):\n",
        "  def __init__(self,nama):\n",
        "    self._nama = nama\n",
        "    print(f\"Inisialisasi BangunDatarAbstrak: {self._nama}\")\n",
        "#Metode Konkret\n",
        "  @property\n",
        "  def nama(self):\n",
        "    \"\"\"Getter untuk nama bangun datar.\"\"\"\n",
        "    return self._nama\n",
        "  def info_lengkap(self):\n",
        "    \"\"\"Menampilkan informasi lengkap termasuk luas dan keliling.\"\"\"\n",
        "    print(f\"\\n--- Info Lengkap: {self.nama} ---\")\n",
        "    try:\n",
        "      luas = self.hitung_luas()\n",
        "      print(f\" Luas : {luas:.2f} \")\n",
        "    except NotImplementedError:\n",
        "      print(\" Luas : Belum diimplementasikan.\")\n",
        "    except Exception as e:\n",
        "      print(f\" Luas : Error ({e})\")\n",
        "    try:\n",
        "      keliling = self.hitung_keliling()\n",
        "      print(f\" Keliling : {keliling : .2f}\")\n",
        "    except NotImplementedError:\n",
        "      print(\" Keliling : Belum diimplementasikan\")\n",
        "    except Exception as e:\n",
        "      print(f\" Keliling : Error ({e})\")\n",
        "      print(\"-\" * (len(self.nama) + 18))\n",
        "#Metode Abstrak\n",
        "  @abstractmethod\n",
        "  def hitung_keliling(self):\n",
        "    \"\"\"Metode abstrak untuk menghjitung keliling.\"\"\"\n",
        "    pass\n",
        "  @abstractmethod\n",
        "  def hitung_luas(self):\n",
        "    \"\"\"Metode abstrak untuk menghitung luas.\"\"\"\n",
        "    pass\n",
        "class Lingkaran(BangunDatarAbstrak):\n",
        "  def __init__(self, radius):\n",
        "    super().__init__(\"Lingkaran\")\n",
        "    if radius < 0:\n",
        "      raise ValueError(\"Radius tidak boleh negatif\")\n",
        "    self.radius = radius\n",
        "    print(f\" -> Lingkaran dibuat (Radius: {self.radius}).\")\n",
        "  def hitung_luas(self):\n",
        "    return 2 * math.pi  * (self.radius ** 2)\n",
        "  def hitung_keliling(self):\n",
        "    return 2 * math.pi * self.radius\n",
        "#Kode Utama\n",
        "if __name__ == \"__main__\":\n",
        "  print(\"Membuat objek Lingkaran...\")\n",
        "  lingkaran_A = Lingkaran(10)\n",
        "  print(f\"\\nNama bangun (via property): {lingkaran_A.nama}\")\n",
        "  lingkaran_A.info_lengkap()"
      ],
      "metadata": {
        "id": "-E6Z97cvaF-a",
        "outputId": "941575c4-c75b-45af-abed-8c05aeece2ca",
        "colab": {
          "base_uri": "https://localhost:8080/"
        }
      },
      "execution_count": 38,
      "outputs": [
        {
          "output_type": "stream",
          "name": "stdout",
          "text": [
            "Membuat objek Lingkaran...\n",
            "Inisialisasi BangunDatarAbstrak: Lingkaran\n",
            " -> Lingkaran dibuat (Radius: 10).\n",
            "\n",
            "Nama bangun (via property): Lingkaran\n",
            "\n",
            "--- Info Lengkap: Lingkaran ---\n",
            " Luas : 628.32 \n",
            " Keliling :  62.83\n"
          ]
        }
      ]
    },
    {
      "cell_type": "markdown",
      "source": [
        "##6. Properti Abstrak -Elemen Grafis"
      ],
      "metadata": {
        "id": "4Yo1-DFxl-Mo"
      }
    },
    {
      "cell_type": "code",
      "source": [
        "from abc import ABC, abstractmethod\n",
        "#kelas Abstrak\n",
        "class ElemenGrafis(ABC):\n",
        "  def __init__(self,id_elemen,warna):\n",
        "    print(f\"[ElementGrafis __init__] Membuat elemen dengan ID: {id_elemen}\")\n",
        "    self._id = id_elemen\n",
        "    self.warna = warna\n",
        "  @property\n",
        "  def id_elemen(self):\n",
        "    print(f\"[ElemenGrafis id_elemen getter] Mengakses ID: {self._id}\")\n",
        "    return self._id\n",
        "  @property\n",
        "  @abstractmethod\n",
        "  def posisi(self):\n",
        "    \"\"\"Subclass harus mendefinisikan cara mendapatkan posisi (misal: tuple (x,y)).\"\"\"\n",
        "    print(\"[ElemenGrafis posisi getter abstract] Metode ini seharusnya di-override.\")\n",
        "  @posisi.setter\n",
        "  @abstractmethod\n",
        "  def posisi(self, koordinat_baru):\n",
        "    \"\"\"Subclass harus mendefinisikan cara mengubah posisi.\"\"\"\n",
        "    print(\"[ElemenGrafis posisi setter abstract] Metode ini seharusnya di-override.\")\n",
        "  @abstractmethod\n",
        "  def gambar(self):\n",
        "    \"\"\"Subclass harus mendefinisikan cara menggambar elermen ini.\"\"\"\n",
        "    print(\"[ElemenGrafis gambar abstract] Metode ini seharusnya di-override.\")\n",
        "    pass\n",
        "  def info_warna(self):\n",
        "    print(f\"[ElemenGrafis info_warna] Warna elemen {self.id_elemen}:{self.warna}\")\n",
        "class Kotak(ElemenGrafis):\n",
        "  def __init__(self,id_elemen,warna, x=0, y=0, lebar=10, tinggi=10):\n",
        "    super().__init__(id_elemen,warna)\n",
        "    print(f\"[Kotak __init__] Menginisialisasi KOtak ID: {self.id_elemen}\")\n",
        "    self._x = x\n",
        "    self._y = y\n",
        "    self.lebar =lebar\n",
        "    self.tinggi = tinggi\n",
        "  @property\n",
        "  def posisi(self):\n",
        "    print(f\"[Kotak posisi getter] MEngembalikan posisi Kotak {self.id_elemen}: ({self._x}, {self._y})\")\n",
        "    return (self._x, self._y)\n",
        "  @posisi.setter\n",
        "  def posisi(self, koordinat_baru):\n",
        "    print(f\"[kotak posisi setter] Mencoba set posisi Kotak {self.id_elemen} ke {koordinat_baru}\")\n",
        "    if isinstance (koordinat_baru, tuple) and len (koordinat_baru) == 2:\n",
        "      self._x = koordinat_baru[0]\n",
        "      self._y = koordinat_baru[1]\n",
        "      print(f\" -> Posiis Kotak {self.id_elemen} berhasil diubah ke ({self._x}, {self._y})\")\n",
        "    else:\n",
        "      print(f\" -> Gagal: Posisi harus berupa tuple (x,y).\")\n",
        "  def gambar(self):\n",
        "    print(f\"[Kotak gambar] Menggambar KOtak '{self.id_elemen}' warna'{self.warna}' di ({self._x},{self._y} dengan ukuran {self.lebar}x{self.tinggi}\")\n",
        "# Kode Utama\n",
        "if __name__ == \"__main__\":\n",
        "  print(\"Membuat objek Kotak...\")\n",
        "  kotak1 = Kotak(\"kotakA\",\"Merah\", x=5, y=10, lebar=20)\n",
        "  print(\"-\" * 30)\n",
        "  print(\"Mengakses ID...\")\n",
        "  id_ktk = kotak1.id_elemen\n",
        "  print(\"-\" * 30)\n",
        "  print(\"Mengakses Posisi Awal...\")\n",
        "  pos_awal = kotak1.posisi\n",
        "  print(\"-\" * 30)\n",
        "  print(\"Mengubah POsisi...\")\n",
        "  kotak1.posisi = (50,60)\n",
        "  print (\"-\" * 30)\n",
        "  print(\"Mengakses POsisi Baru...\")\n",
        "  pos_baru = kotak1.posisi\n",
        "  print(\"-\" * 30)\n",
        "  print(\"Mencoba Set POsisi Salah...\")\n",
        "  kotak1.posisi = [100,200]\n",
        "  print(\"-\" * 30)\n",
        "  print(\"Menggambar Kotak...\")\n",
        "  kotak1.gambar()\n",
        "  print(\"-\" * 30)\n",
        "  print(\"Info Warna...\")\n",
        "  kotak1.info_warna()\n",
        "  print(\"-\" * 30)"
      ],
      "metadata": {
        "id": "P9vzFUAamD2g",
        "outputId": "d76c64a1-5b9e-4a17-f314-8ab6a6afba09",
        "colab": {
          "base_uri": "https://localhost:8080/"
        }
      },
      "execution_count": 42,
      "outputs": [
        {
          "output_type": "stream",
          "name": "stdout",
          "text": [
            "Membuat objek Kotak...\n",
            "[ElementGrafis __init__] Membuat elemen dengan ID: kotakA\n",
            "[ElemenGrafis id_elemen getter] Mengakses ID: kotakA\n",
            "[Kotak __init__] Menginisialisasi KOtak ID: kotakA\n",
            "------------------------------\n",
            "Mengakses ID...\n",
            "[ElemenGrafis id_elemen getter] Mengakses ID: kotakA\n",
            "------------------------------\n",
            "Mengakses Posisi Awal...\n",
            "[ElemenGrafis id_elemen getter] Mengakses ID: kotakA\n",
            "[Kotak posisi getter] MEngembalikan posisi Kotak kotakA: (5, 10)\n",
            "------------------------------\n",
            "Mengubah POsisi...\n",
            "[ElemenGrafis id_elemen getter] Mengakses ID: kotakA\n",
            "[kotak posisi setter] Mencoba set posisi Kotak kotakA ke (50, 60)\n",
            "[ElemenGrafis id_elemen getter] Mengakses ID: kotakA\n",
            " -> Posiis Kotak kotakA berhasil diubah ke (50, 60)\n",
            "------------------------------\n",
            "Mengakses POsisi Baru...\n",
            "[ElemenGrafis id_elemen getter] Mengakses ID: kotakA\n",
            "[Kotak posisi getter] MEngembalikan posisi Kotak kotakA: (50, 60)\n",
            "------------------------------\n",
            "Mencoba Set POsisi Salah...\n",
            "[ElemenGrafis id_elemen getter] Mengakses ID: kotakA\n",
            "[kotak posisi setter] Mencoba set posisi Kotak kotakA ke [100, 200]\n",
            " -> Gagal: Posisi harus berupa tuple (x,y).\n",
            "------------------------------\n",
            "Menggambar Kotak...\n",
            "[ElemenGrafis id_elemen getter] Mengakses ID: kotakA\n",
            "[Kotak gambar] Menggambar KOtak 'kotakA' warna'Merah' di (50,60 dengan ukuran 20x10\n",
            "------------------------------\n",
            "Info Warna...\n",
            "[ElemenGrafis id_elemen getter] Mengakses ID: kotakA\n",
            "[ElemenGrafis info_warna] Warna elemen kotakA:Merah\n",
            "------------------------------\n"
          ]
        }
      ]
    },
    {
      "cell_type": "markdown",
      "source": [
        "# Penugasan"
      ],
      "metadata": {
        "id": "xKQqgYxX0MHR"
      }
    },
    {
      "cell_type": "code",
      "source": [
        "from abc import ABC, abstractmethod\n",
        "\n",
        "class Senjata(ABC):\n",
        "    def __init__(self, nama):\n",
        "        self.nama = nama\n",
        "    @abstractmethod\n",
        "    def serang(self):\n",
        "        pass\n",
        "    @property\n",
        "    @abstractmethod\n",
        "    def status(self):\n",
        "        pass\n",
        "    def info_nama(self):\n",
        "        print(f\"Senjata ini bernama: {self.nama}\")\n",
        "class Pedang(Senjata):\n",
        "    def __init__(self, nama, panjang_bilah):\n",
        "        super().__init__(nama)\n",
        "        self.panjang_bilah = panjang_bilah\n",
        "        self._daya_tahan = 100\n",
        "    def serang(self):\n",
        "        print(f\"Pedang {self.nama} menebas dengan bilah sepanjang {self.panjang_bilah} cm!\")\n",
        "    @property\n",
        "    def status(self):\n",
        "        return self._daya_tahan\n",
        "    @status.setter\n",
        "    def status(self, value):\n",
        "        self._daya_tahan = value\n",
        "class Panah(Senjata):\n",
        "    def __init__(self, nama, jumlah_anak_panah):\n",
        "        super().__init__(nama)\n",
        "        self._jumlah_anak_panah = jumlah_anak_panah\n",
        "    def serang(self):\n",
        "        if self._jumlah_anak_panah > 0:\n",
        "            self._jumlah_anak_panah -= 1\n",
        "            print(f\"Panah {self.nama} melesat! Sisa anak panah: {self._jumlah_anak_panah}.\")\n",
        "        else:\n",
        "            print(f\"Amunisi Panah {self.nama} habis!\")\n",
        "    @property\n",
        "    def status(self):\n",
        "        return self._jumlah_anak_panah\n",
        "    @status.setter\n",
        "    def status(self, value):\n",
        "        self._jumlah_anak_panah = value\n",
        "if __name__ == \"__main__\":\n",
        "    pedang_1 = Pedang(\"Excalibur\", 85.5)\n",
        "    panah_1 = Panah(\"Elven Bow\", 3)\n",
        "    panah_1.serang()\n",
        "    panah_1.serang()\n",
        "    panah_1.serang()\n",
        "    panah_1.serang()\n",
        "    pedang_1.serang()\n",
        "    print(f\"Daya tahan pedang: {pedang_1.status}\")\n",
        "    print(f\"Amunisi panah: {panah_1.status}\")\n",
        "    try:\n",
        "        s = Senjata(\"Abstrak\")\n",
        "    except TypeError as e:\n",
        "        print(f\"Error: {e}\")"
      ],
      "metadata": {
        "id": "eK-qovt60PVl",
        "outputId": "ab606bc8-fc32-4910-acc0-240abffcfb9a",
        "colab": {
          "base_uri": "https://localhost:8080/"
        }
      },
      "execution_count": 46,
      "outputs": [
        {
          "output_type": "stream",
          "name": "stdout",
          "text": [
            "Panah Elven Bow melesat! Sisa anak panah: 2.\n",
            "Panah Elven Bow melesat! Sisa anak panah: 1.\n",
            "Panah Elven Bow melesat! Sisa anak panah: 0.\n",
            "Amunisi Panah Elven Bow habis!\n",
            "Pedang Excalibur menebas dengan bilah sepanjang 85.5 cm!\n",
            "Daya tahan pedang: 100\n",
            "Amunisi panah: 0\n",
            "Error: Can't instantiate abstract class Senjata with abstract methods serang, status\n"
          ]
        }
      ]
    }
  ]
}