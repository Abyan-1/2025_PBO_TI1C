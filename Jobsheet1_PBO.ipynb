{
  "nbformat": 4,
  "nbformat_minor": 0,
  "metadata": {
    "colab": {
      "provenance": [],
      "authorship_tag": "ABX9TyOl0Czf5ptHW1F64h7qEScn",
      "include_colab_link": true
    },
    "kernelspec": {
      "name": "python3",
      "display_name": "Python 3"
    },
    "language_info": {
      "name": "python"
    }
  },
  "cells": [
    {
      "cell_type": "markdown",
      "metadata": {
        "id": "view-in-github",
        "colab_type": "text"
      },
      "source": [
        "<a href=\"https://colab.research.google.com/github/Abyan-1/2025_PBO_TI1C/blob/main/Jobsheet1_PBO.ipynb\" target=\"_parent\"><img src=\"https://colab.research.google.com/assets/colab-badge.svg\" alt=\"Open In Colab\"/></a>"
      ]
    },
    {
      "cell_type": "markdown",
      "source": [
        "#Praktikum"
      ],
      "metadata": {
        "id": "XAnw42QO66TT"
      }
    },
    {
      "cell_type": "markdown",
      "source": [
        "##Tipe Data Dasar"
      ],
      "metadata": {
        "id": "CIOAimVd6-0f"
      }
    },
    {
      "cell_type": "code",
      "source": [
        "#1. Number (int, float, complex)\n",
        "# Interger (int)\n",
        "angka_int = 10\n",
        "print(\"angka_int =\", angka_int, \"->\", type(angka_int))\n",
        "\n",
        "# Float\n",
        "angka_float = 3.14\n",
        "print(\"angka_float =\", angka_float, \"->\", type(angka_float))\n",
        "\n",
        "# Complex\n",
        "angka_complex = 2+3j\n",
        "print(\"angka_complex=\", angka_complex, \"->\", type(angka_complex))\n",
        "\n",
        "#2. Boolean\n",
        "is_active = True\n",
        "print(\"is_active =\", is_active, \"->\", type(is_active))\n",
        "\n",
        "#3. String\n",
        "teks = \"Hello, Python!\"\n",
        "print(\"teks =\", teks, \"->\", type(teks))\n",
        "\n",
        "#4. List\n",
        "#List adalah tipe data terurut dan dapat diubah (mutable)\n",
        "daftar_angka =[1, 2, 3, 4, 5]\n",
        "print(\"daftar_angka =\", daftar_angka, \"->\", type(daftar_angka))\n",
        "\n",
        "#5. Tuple\n",
        "#Tuple adalah tipe data terurut tetapi tidak dapat diubah (immutable)\n",
        "koordinat = (10, 20)\n",
        "print(\"koordinat =\", koordinat, \"->\", type(koordinat))\n",
        "\n",
        "#6. Dictionary\n",
        "#Dictionary menyimpan data dalam pasangan key-value\n",
        "data_mahasiswa = {\n",
        "    \"nama\": \"Andi\",\n",
        "    \"nim\": \"A11.2002.12345\",\n",
        "    \"jurusan\": \"Teknik Informatika\"\n",
        "}\n",
        "print(\"data_mahasiswa =\", data_mahasiswa, \"->\", type(data_mahasiswa))\n",
        "\n",
        "#7. Set\n",
        "#Set adalah tyipe data yang tidak terurut, unik (tiap elemen hanya muncul 1x)\n",
        "himpunan_angka = {1, 2, 3, 2, 1}\n",
        "print(\"himpunan_angka =\", himpunan_angka, \"->\", type(himpunan_angka))\n",
        "\n",
        "#8. Contoh penggunaan konversi tipe data\n",
        "nilai_str = \"100\"\n",
        "print(\"\\nnilai_str =\", nilai_str, \"->\", type(nilai_str))\n",
        "nilai_int = int(nilai_str) #konversi string ke integer\n",
        "print(\"nilai_int =\", nilai_int, \"->\", type(nilai_int))"
      ],
      "metadata": {
        "id": "BQxIVUrz7uwJ",
        "outputId": "c6cda414-d2c4-406f-ac74-b19a36c5fb49",
        "colab": {
          "base_uri": "https://localhost:8080/"
        }
      },
      "execution_count": 4,
      "outputs": [
        {
          "output_type": "stream",
          "name": "stdout",
          "text": [
            "angka_int = 10 -> <class 'int'>\n",
            "angka_float = 3.14 -> <class 'float'>\n",
            "angka_complex= (2+3j) -> <class 'complex'>\n",
            "is_active = True -> <class 'bool'>\n",
            "teks = Hello, Python! -> <class 'str'>\n",
            "daftar_angka = [1, 2, 3, 4, 5] -> <class 'list'>\n",
            "koordinat = (10, 20) -> <class 'tuple'>\n",
            "data_mahasiswa = {'nama': 'Andi', 'nim': 'A11.2002.12345', 'jurusan': 'Teknik Informatika'} -> <class 'dict'>\n",
            "himpunan_angka = {1, 2, 3} -> <class 'set'>\n",
            "\n",
            "nilai_str = 100 -> <class 'str'>\n",
            "nilai_int = 100 -> <class 'int'>\n"
          ]
        }
      ]
    },
    {
      "cell_type": "markdown",
      "source": [
        "##Variabel dan Operasi Dasar"
      ],
      "metadata": {
        "id": "xYWwmuCv7D9r"
      }
    },
    {
      "cell_type": "code",
      "source": [
        "# -*- coding: utf-8 -*-\n",
        "#1. Pendeklarasian Variable\n",
        "nama = \"Budi\"\n",
        "umur = 20\n",
        "tinggi = 170.5\n",
        "is_student = True\n",
        "\n",
        "print(\"Nama =\", nama)\n",
        "print(\"Umur =\", umur)\n",
        "print(\"Tinggi =\", tinggi)\n",
        "print(\"Is Student =\", is_student)\n",
        "\n",
        "#2. Operasi Aritmetika\n",
        "a = 10\n",
        "b = 3\n",
        "\n",
        "penjumlahan = a + b\n",
        "pengurangan = a - b\n",
        "perkalian = a * b\n",
        "pembagian = a / b\n",
        "pembagian_bulat = a // b\n",
        "modulus = a % b\n",
        "pangkat = a ** b\n",
        "\n",
        "print(\"\\nOPERASI ARITMETIKA\")\n",
        "print(\"a =\", a, \"b =\", b)\n",
        "print(\"Penjumlahan =\", penjumlahan)\n",
        "print(\"Pengurangan =\", pengurangan)\n",
        "print(\"Perkalian =\", perkalian)\n",
        "print(\"Pembagian =\", pembagian)\n",
        "print(\"Pembagian Bulat =\", pembagian_bulat)\n",
        "print(\"Modulus =\", modulus)\n",
        "print(\"Pangkat =\", pangkat)\n",
        "\n",
        "#3. Operasi Perbandingan\n",
        "#Menghasilkan nilai Boolean (True/False)\n",
        "lebih_besar = a > b\n",
        "kurang_dari = a < b\n",
        "sama_dengan = a == b\n",
        "tidak_sama = a != b\n",
        "lebih_besar_sama = a >= b\n",
        "kurang_dari_sama = a <= b\n",
        "\n",
        "print(\"\\nOPERASI PERBANDINGAN\")\n",
        "print(\"lebih_besar =\", lebih_besar)\n",
        "print(\"kurang_dari =\", kurang_dari)\n",
        "print(\"sama_dengan =\", sama_dengan)\n",
        "print(\"tidak_sama =\", tidak_sama)\n",
        "print(\"lebih_besar_sama =\", lebih_besar_sama)\n",
        "print(\"kurang_dari_sama =\", kurang_dari_sama)\n",
        "\n",
        "#4. Operasi Logika\n",
        "# and, or, not\n",
        "x = True\n",
        "y = False\n",
        "\n",
        "logika_and = x and y\n",
        "logika_or = x or y\n",
        "logika_not = not x\n",
        "\n",
        "print(\"\\nOPERASI LOGIKA\")\n",
        "print(\"x =\", x, \"y =\", y)\n",
        "print(\"logika_and =\", logika_and)\n",
        "print(\"logika_or =\", logika_or)\n",
        "print(\"logika_not =\", logika_not)\n",
        "\n",
        "#5. Contoh penggunaan di dalam percabangan\n",
        "if a > b and b > 0:\n",
        "  print(\"\\nKondisi terpenuhi: a lebih besar dari b, dan b masih positif\")\n",
        "else:\n",
        "  print(\"\\nKondisi tidak terpenuhi atau b <= 0.\")"
      ],
      "metadata": {
        "id": "zKotatn37uVo",
        "outputId": "fbe4210c-e8b5-4db9-982d-476244a9db8b",
        "colab": {
          "base_uri": "https://localhost:8080/"
        }
      },
      "execution_count": 5,
      "outputs": [
        {
          "output_type": "stream",
          "name": "stdout",
          "text": [
            "Nama = Budi\n",
            "Umur = 20\n",
            "Tinggi = 170.5\n",
            "Is Student = True\n",
            "\n",
            "OPERASI ARITMETIKA\n",
            "a = 10 b = 3\n",
            "Penjumlahan = 13\n",
            "Pengurangan = 7\n",
            "Perkalian = 30\n",
            "Pembagian = 3.3333333333333335\n",
            "Pembagian Bulat = 3\n",
            "Modulus = 1\n",
            "Pangkat = 1000\n",
            "\n",
            "OPERASI PERBANDINGAN\n",
            "lebih_besar = True\n",
            "kurang_dari = False\n",
            "sama_dengan = False\n",
            "tidak_sama = True\n",
            "lebih_besar_sama = True\n",
            "kurang_dari_sama = False\n",
            "\n",
            "OPERASI LOGIKA\n",
            "x = True y = False\n",
            "logika_and = False\n",
            "logika_or = True\n",
            "logika_not = False\n",
            "\n",
            "Kondisi terpenuhi: a lebih besar dari b, dan b masih positif\n"
          ]
        }
      ]
    },
    {
      "cell_type": "markdown",
      "source": [
        "##Percabangan"
      ],
      "metadata": {
        "id": "ubNSuJmy7Ptx"
      }
    },
    {
      "cell_type": "code",
      "source": [
        "#1. IF sederhana\n",
        "#PRogram hannya mengeksekusi blok jika kondisinya True\n",
        "\n",
        "nilai = 85\n",
        "print(\"Contoh IF Sederhana:\")\n",
        "if nilai > 80:\n",
        "  print(\"Selamat! Anda lulus dengan nilai tinggi.\\n.\")\n",
        "\n",
        "#2. IF-ELSE\n",
        "#JIka kondidi True,eksekusi blok if; jika False, eksekusi blok else\n",
        "\n",
        "umur = 17\n",
        "if umur >= 18:\n",
        "  print(\"Anda sudah cukup umur untuk mendapatkan SIM.\")\n",
        "else:\n",
        "  print(\"Anda bwlum cukup umur untuk mednapatkan SIM.\\n\")\n",
        "\n",
        "#3. IF-ELIF-ELSE\n",
        "#Menangani banyak kondidi secara berurutan.\n",
        "#JIka ada kondisi yang terpenuhi, bolk yang bersangkautan dieksekusi,\n",
        "#lalu program melewati blok kondisi setelahnya\n",
        "\n",
        "hari = \"Rabu\"\n",
        "print(\"Contoh IF-ELIF-ELSE:\")\n",
        "if hari == \"Senin\":\n",
        "  print(\"Hari Senin - saatnya kembali bekerja!\")\n",
        "elif hari == \"Selasa:\":\n",
        "  print(\"Hari Selasa - jadwal rapat mingguan.\")\n",
        "elif hari == \"Rabu\":\n",
        "  print(\"Hari Rabu - Ada diskon di beberapa toko.\")\n",
        "else:\n",
        "  print(\"Hari lainnya - atur jadwalmu dengan baik.\\n\")\n",
        "\n",
        "#4. IF Bersarang (Nested IF)\n",
        "#KOndisi didalam kondisi, biasa digunakan jika kita perlu\n",
        "#Memeriksa sub-kondisi setelah kondisi pertama ter[enuhi.\n",
        "\n",
        "suhu = 35\n",
        "print(\"Contoh IF Bersarang (Nested IF):\")\n",
        "if suhu > 30:\n",
        "  print(\"Cuaca cukup panas.\")\n",
        "  if suhu > 40:\n",
        "    print(\"Bahkan sangan terik! Disarankan banyak minum air.\")\n",
        "  else:\n",
        "    print(\"Masih relatif normal, tapi tetap jaga kesehatan.\")\n",
        "else:\n",
        "  print(\"Cuaca sepertinya cukup sejuk.\\n\")\n",
        "\n",
        "#5. Menggabungkan Percabngan dengan Operasi Logika\n",
        "#Memeriksa beberapa kondisi sekaligus dengan and, or, not\n",
        "\n",
        "nilai_teori = 75\n",
        "nilai_praktik = 80\n",
        "print(\"Contoh IF dengan Operasi Logika:\")\n",
        "if nilai_teori >= 70 and nilai_praktik >= 70:\n",
        "  print(\"Selamat! Anda lulus karena nilai teori dan praktik memadai.\")\n",
        "elif nilai_teori < 70 and nilai_praktik < 70:\n",
        "  print(\"Ada perlu meningkatkan nilai teori dan praktik.\")\n",
        "elif nilai_teori < 70:\n",
        "  print(\"Anda perlu meningkatkan nilai teori.\")\n",
        "else:\n",
        "  print(\"Anda perlu meningkatkan nilai praktik.\\n\")\n",
        "\n",
        "#6. Penggunaan IF Ternary (atau Conditional Expression)\n",
        "angka = -5\n",
        "print(\"Contoh IF Ternary:\")\n",
        "status = \"positif\" if angka > 0 else \"negatif atau nol\"\n",
        "print(f\"Angka =\", angka, \"=>\", status)"
      ],
      "metadata": {
        "id": "zMyL1vdk7uG5",
        "outputId": "9e2a6da8-4ca2-4fb2-af17-1feff741a4cb",
        "colab": {
          "base_uri": "https://localhost:8080/"
        }
      },
      "execution_count": 7,
      "outputs": [
        {
          "output_type": "stream",
          "name": "stdout",
          "text": [
            "Contoh IF Sederhana:\n",
            "Selamat! Anda lulus dengan nilai tinggi.\n",
            ".\n",
            "Anda bwlum cukup umur untuk mednapatkan SIM.\n",
            "\n",
            "Contoh IF-ELIF-ELSE:\n",
            "Hari Rabu - Ada diskon di beberapa toko.\n",
            "Contoh IF Bersarang (Nested IF):\n",
            "Cuaca cukup panas.\n",
            "Masih relatif normal, tapi tetap jaga kesehatan.\n",
            "Contoh IF dengan Operasi Logika:\n",
            "Selamat! Anda lulus karena nilai teori dan praktik memadai.\n",
            "Contoh IF Ternary:\n",
            "Angka = -5 => negatif atau nol\n"
          ]
        }
      ]
    },
    {
      "cell_type": "markdown",
      "source": [
        "##Perulangan"
      ],
      "metadata": {
        "id": "I9H49PEv7XIJ"
      }
    },
    {
      "cell_type": "code",
      "source": [
        "#1. FOR Loop dengan range()\n",
        "print(\"1) FOR loop dengan range()\")\n",
        "for i in range(5):\n",
        "  print(\"Perulangan ke-\", i)\n",
        "print()\n",
        "\n",
        "#2. FOR Loop untuk mengiterasi List\n",
        "print(\"2) FOR loop mengiterasi list\")\n",
        "buah = [\"aple\", \"mangga\", \"jeruk\", \"pisang\"]\n",
        "for item in buah:\n",
        "  print(\"Buah:\", item)\n",
        "print()\n",
        "\n",
        "#3. WHILE Loop\n",
        "print(\"3) WHILE loop sederhana\")\n",
        "count = 0\n",
        "while count < 5:\n",
        "  print(\"count =\", count)\n",
        "  count += 1\n",
        "print()\n",
        "\n",
        "#4. BREAK pada Loop\n",
        "print(\"4) BREAK pada loop\")\n",
        "for i in range(10):\n",
        "  if i == 3:\n",
        "    print(\"Loop dihentikan pada i =\", i)\n",
        "    break\n",
        "  print(\"i =\", i)\n",
        "print()\n",
        "\n",
        "#5. Continue pada Loop\n",
        "print(\"5) CONTINUE pada loop\")\n",
        "for i in range(5):\n",
        "  if i == 2:\n",
        "    print(\"Lewati i =\", i, \"dengan continue\")\n",
        "    continue\n",
        "  print(\"i =\", i)\n",
        "print()\n",
        "\n",
        "#6. Nested Loop\n",
        "print(\"6) Nested Loop\")\n",
        "for i in range(3):\n",
        "  for j in range(2):\n",
        "    print(\"i = {i}, j = {j}\")\n",
        "print()\n",
        "\n",
        "#7. Memanfaatkan ELSE pada Loop\n",
        "print(\"7) ELSE pada loop\")\n",
        "for x in range(3):\n",
        "  print(\"x =\", x)\n",
        "y = 0\n",
        "while y < 3:\n",
        "  print(\"y =\", y)\n",
        "  y += 1\n",
        "else:\n",
        "  print(\"Loop while telas selesai tanpa break.\\n\")\n",
        "\n",
        "#8. PASS sebgain placeholder\n",
        "print(\"8) PASS (placeholder)\")\n",
        "for i in range(3):\n",
        "  if i == 1:\n",
        "    pass\n",
        "  print(\"i =\", i)"
      ],
      "metadata": {
        "id": "sKZWNfTn7ty9",
        "outputId": "dcaf4c63-117f-4d45-ce85-a25c9fd57c6f",
        "colab": {
          "base_uri": "https://localhost:8080/"
        }
      },
      "execution_count": 11,
      "outputs": [
        {
          "output_type": "stream",
          "name": "stdout",
          "text": [
            "1) FOR loop dengan range()\n",
            "Perulangan ke- 0\n",
            "Perulangan ke- 1\n",
            "Perulangan ke- 2\n",
            "Perulangan ke- 3\n",
            "Perulangan ke- 4\n",
            "\n",
            "2) FOR loop mengiterasi list\n",
            "Buah: aple\n",
            "Buah: mangga\n",
            "Buah: jeruk\n",
            "Buah: pisang\n",
            "\n",
            "3) WHILE loop sederhana\n",
            "count = 0\n",
            "count = 1\n",
            "count = 2\n",
            "count = 3\n",
            "count = 4\n",
            "\n",
            "4) BREAK pada loop\n",
            "i = 0\n",
            "i = 1\n",
            "i = 2\n",
            "Loop dihentikan pada i = 3\n",
            "\n",
            "5) CONTINUE pada loop\n",
            "i = 0\n",
            "i = 1\n",
            "Lewati i = 2 dengan continue\n",
            "i = 3\n",
            "i = 4\n",
            "\n",
            "6) Nested Loop\n",
            "i = {i}, j = {j}\n",
            "i = {i}, j = {j}\n",
            "i = {i}, j = {j}\n",
            "i = {i}, j = {j}\n",
            "i = {i}, j = {j}\n",
            "i = {i}, j = {j}\n",
            "\n",
            "7) ELSE pada loop\n",
            "x = 0\n",
            "x = 1\n",
            "x = 2\n",
            "y = 0\n",
            "y = 1\n",
            "y = 2\n",
            "Loop while telas selesai tanpa break.\n",
            "\n",
            "8) PASS (placeholder)\n",
            "i = 0\n",
            "i = 1\n",
            "i = 2\n"
          ]
        }
      ]
    }
  ]
}