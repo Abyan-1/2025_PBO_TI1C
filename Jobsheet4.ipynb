{
  "nbformat": 4,
  "nbformat_minor": 0,
  "metadata": {
    "colab": {
      "provenance": [],
      "authorship_tag": "ABX9TyPkP1RsU5nHPxgqGIxxckrU",
      "include_colab_link": true
    },
    "kernelspec": {
      "name": "python3",
      "display_name": "Python 3"
    },
    "language_info": {
      "name": "python"
    }
  },
  "cells": [
    {
      "cell_type": "markdown",
      "metadata": {
        "id": "view-in-github",
        "colab_type": "text"
      },
      "source": [
        "<a href=\"https://colab.research.google.com/github/Abyan-1/2025_PBO_TI1C/blob/main/Jobsheet4.ipynb\" target=\"_parent\"><img src=\"https://colab.research.google.com/assets/colab-badge.svg\" alt=\"Open In Colab\"/></a>"
      ]
    },
    {
      "cell_type": "markdown",
      "source": [
        "#Praktikum 1"
      ],
      "metadata": {
        "id": "8ycvZzyFglwU"
      }
    },
    {
      "cell_type": "code",
      "source": [
        "#kelas induk\n",
        "class Kendaraan:\n",
        "  def __init__ (self, merk) :\n",
        "      self.merk = merk\n",
        "\n",
        "  def mulai_mesin(self):\n",
        "    print(f\"Mesin Kendaraan {self.merk} dinyalakan.\")\n",
        "\n",
        "#Kelas Anak (mewarisi dari kendaraan)\n",
        "class Mobil (Kendaraan):\n",
        "    def __init__ (self, merk, warna):\n",
        "    #Memanggil __init__ kelas induk\n",
        "    #self.merk manual\n",
        "      self.merk = merk #MEwarisi 'merk' tapi di set ulang\n",
        "      self.warna = warna #Atribut khusus Mobil\n",
        "\n",
        "    def info_mobil (self):\n",
        "      print(f\"Ini adalah mobil {self.merk} berwarna {self.warna}.\")\n",
        "\n",
        "# --- Kode Utama --- #\n",
        "if __name__ == \"__main__\":\n",
        "    mobil_tesla = Mobil (\"Tesla Model S\", \"Merah\")\n",
        "\n",
        "  #Memanggil metode dari kelas anak\n",
        "    mobil_tesla.info_mobil ()\n",
        "\n",
        "  #Memanggil metode yang diwarisi dari kelas induk\n",
        "    mobil_tesla.mulai_mesin ()\n",
        "\n",
        "  #Mengakses atribut yang diwarisi (dan diset si di anak)\n",
        "    print(f\"Merk Mobil Tesla: {mobil_tesla.merk}\")"
      ],
      "metadata": {
        "id": "Zcna0zGhgorN",
        "outputId": "717eab9b-4b7c-4d6b-bc9c-0395865b17dd",
        "colab": {
          "base_uri": "https://localhost:8080/"
        }
      },
      "execution_count": 1,
      "outputs": [
        {
          "output_type": "stream",
          "name": "stdout",
          "text": [
            "Ini adalah mobil Tesla Model S berwarna Merah.\n",
            "Mesin Kendaraan Tesla Model S dinyalakan.\n",
            "Merk Mobil Tesla: Tesla Model S\n"
          ]
        }
      ]
    },
    {
      "cell_type": "markdown",
      "source": [
        "# Praktikum 2"
      ],
      "metadata": {
        "id": "7l6X17rRpmqY"
      }
    },
    {
      "cell_type": "code",
      "source": [
        "# Kelas Induk\n",
        "class Person :\n",
        "  def __init__ (self, nama, usia) :\n",
        "    print(f\"(Memanggil __init__ Person untuk '{nama}')\")\n",
        "    self.nama = nama\n",
        "    self.usia = usia\n",
        "\n",
        "  def perkenalan_diri(self):\n",
        "    print(f\"Halo, nama saya {self.nama}, usia saya {self.usia} tahun.\")\n",
        "\n",
        "# Kelas Anak\n",
        "class Student (Person):\n",
        "  def __init__ (self, nama, usia, student_id, jurusan) :\n",
        "    print(f\"(Memanggil __init__ Student untuk '{nama}')\")\n",
        "    super(). __init__ (nama,usia)\n",
        "    self.student_id = student_id\n",
        "    self.jurusan = jurusan\n",
        "    print(f\"(Inisialisasi atribut Student selesai untuk '{nama}')\")\n",
        "  def info_akademik(self):\n",
        "    print(f\"ID Mahasiswa: {self.student_id}\")\n",
        "    print(f\"Jurusan: {self.jurusan}\")\n",
        "  def perkenalan_diri(self) :\n",
        "    super(). perkenalan_diri()\n",
        "    print(f\"Saya adalah Mahasiswa dengan ID {self.student_id}, jurusan {self.jurusan}.\")\n",
        "\n",
        "# Kode Utama\n",
        "if __name__ == \"__main__\":\n",
        "\n",
        "  dosen = Person(\"Pak Anton\", 45)\n",
        "  print(\"-\" * 20)\n",
        "  dosen.perkenalan_diri()\n",
        "  print(\"\\n\" + \"=\" * 30 + \"\\n\")\n",
        "\n",
        "#Membuat Objek Student\n",
        "  mahasiswa = Student(\"dewi\", 20, \"MHSS001\", \"Teknik Komputer\")\n",
        "  print(\"-\" * 20)\n",
        "  mahasiswa.perkenalan_diri()\n",
        "  print(\"-\" * 20)\n",
        "  mahasiswa.info_akademik()\n",
        "\n",
        "  print(f\"\\nUsia mahasiswa {mahasiswa.nama}:{mahasiswa.usia}\")"
      ],
      "metadata": {
        "id": "QNbsICIIppCh",
        "outputId": "64d7ae0e-2904-4302-e8e6-93f351a9d38b",
        "colab": {
          "base_uri": "https://localhost:8080/"
        }
      },
      "execution_count": 2,
      "outputs": [
        {
          "output_type": "stream",
          "name": "stdout",
          "text": [
            "(Memanggil __init__ Person untuk 'Pak Anton')\n",
            "--------------------\n",
            "Halo, nama saya Pak Anton, usia saya 45 tahun.\n",
            "\n",
            "==============================\n",
            "\n",
            "(Memanggil __init__ Student untuk 'dewi')\n",
            "(Memanggil __init__ Person untuk 'dewi')\n",
            "(Inisialisasi atribut Student selesai untuk 'dewi')\n",
            "--------------------\n",
            "Halo, nama saya dewi, usia saya 20 tahun.\n",
            "Saya adalah Mahasiswa dengan ID MHSS001, jurusan Teknik Komputer.\n",
            "--------------------\n",
            "ID Mahasiswa: MHSS001\n",
            "Jurusan: Teknik Komputer\n",
            "\n",
            "Usia mahasiswa dewi:20\n"
          ]
        }
      ]
    },
    {
      "cell_type": "markdown",
      "source": [
        "#Praktikum 3"
      ],
      "metadata": {
        "id": "lP1BZGyIwNVC"
      }
    },
    {
      "cell_type": "code",
      "source": [
        "# Kelas Induk\n",
        "class Hewan:\n",
        "  def __init__ (self, nama):\n",
        "    self.nama = nama\n",
        "  def bersuara(self):\n",
        "    print(f\"{self.nama} mengeluarkan suara generik.\")\n",
        "  def tampilkan_info(self):\n",
        "    print(f\"Ini adalah hewan bernama {self.nama}.\")\n",
        "\n",
        "# Kelas anak\n",
        "class Kucing (Hewan):\n",
        "  def __init__ (self, nama, ras):\n",
        "    super(). __init__ (nama)\n",
        "    self.ras = ras\n",
        "\n",
        "# Methode Overriding\n",
        "  def bersuara (self):\n",
        "    print(f\"{self.nama} (Kucing) Mengeong: Meow!\")\n",
        "\n",
        "  def tampilkan_info(self):\n",
        "    super().tampilkan_info()\n",
        "\n",
        "    print(f\"Ini adalah kucing ras {self.ras}.\")\n",
        "\n",
        "# Kode Utama\n",
        "if __name__ == \"__main__\":\n",
        "    hewan_umum = Hewan(\"Makhluk\")\n",
        "    kucing_persia= Kucing(\"Puspus\", \"Persia\")\n",
        "\n",
        "    print(\"Info Hewan Umum:\")\n",
        "    hewan_umum.tampilkan_info()\n",
        "    hewan_umum.bersuara()\n",
        "    print(\"-\" * 20)\n",
        "\n",
        "    print(\"Info Kucing Persia:\")\n",
        "    kucing_persia.tampilkan_info()\n",
        "    kucing_persia.bersuara()"
      ],
      "metadata": {
        "id": "PBr7XyIpwPrd",
        "outputId": "bccc8413-05d7-4e7e-9637-09da3eddb49b",
        "colab": {
          "base_uri": "https://localhost:8080/"
        }
      },
      "execution_count": 3,
      "outputs": [
        {
          "output_type": "stream",
          "name": "stdout",
          "text": [
            "Info Hewan Umum:\n",
            "Ini adalah hewan bernama Makhluk.\n",
            "Makhluk mengeluarkan suara generik.\n",
            "--------------------\n",
            "Info Kucing Persia:\n",
            "Ini adalah hewan bernama Puspus.\n",
            "Ini adalah kucing ras Persia.\n",
            "Puspus (Kucing) Mengeong: Meow!\n"
          ]
        }
      ]
    },
    {
      "cell_type": "markdown",
      "source": [
        "# Praktikum 4"
      ],
      "metadata": {
        "id": "Js8qSCfv4NRs"
      }
    },
    {
      "cell_type": "code",
      "source": [
        "# Kelas Induk Level 1\n",
        "class Organisme :\n",
        "  def __init__ (self, nama) :\n",
        "    self.nama = nama\n",
        "    print(f\"Organisme '{self.nama}' diciptakan.\")\n",
        "\n",
        "  def bernafas(self):\n",
        "    print(f\"{self.nama} sedang bernafas\")\n",
        "\n",
        "# Kelas Anak Level 1\n",
        "class Hewan (Organisme) :\n",
        "  def __init__(self, nama, jenis_makanan):\n",
        "    super(). __init__(nama)\n",
        "    self.jenis_makanan = jenis_makanan\n",
        "    print(f\"Hewan '{self.nama}'adalah {self.jenis_makanan}.\")\n",
        "\n",
        "  def bergerak(self):\n",
        "    print(f\"Hewan{self.nama}' sedang bergerak.\")\n",
        "\n",
        "# Kelas Anak Level 2\n",
        "class Mamalia (Hewan) :\n",
        "  def __init__ (self,nama,jenis_makanan,jumlah_kaki):\n",
        "    super().__init__ (nama,jenis_makanan)\n",
        "    self.jumlah_kaki = jumlah_kaki\n",
        "    print (f\"Mamalia'{self.nama}' memiliki {self.jumlah_kaki} kaki\")\n",
        "\n",
        "  def menyusui(self):\n",
        "    print (f\"Mamalia'{self.nama} sedang menyusui\")\n",
        "\n",
        "# Kode Utama\n",
        "if __name__ == \"__main__\":\n",
        "  kucing = Mamalia (\"Kucing Persia\", \"Karinivora\", 4)\n",
        "  print(\"-\" * 20)\n",
        "\n",
        "  kucing.menyusui()\n",
        "\n",
        "  kucing.bergerak()\n",
        "  print(f\"Jenis Makanan: {kucing.jenis_makanan}\")\n",
        "\n",
        "  print(f\"Nama organisme: {kucing.nama}\")"
      ],
      "metadata": {
        "id": "IXhgn9FF4UPU",
        "outputId": "47c41014-7481-47ea-8963-7c346957eec0",
        "colab": {
          "base_uri": "https://localhost:8080/"
        }
      },
      "execution_count": 4,
      "outputs": [
        {
          "output_type": "stream",
          "name": "stdout",
          "text": [
            "Organisme 'Kucing Persia' diciptakan.\n",
            "Hewan 'Kucing Persia'adalah Karinivora.\n",
            "Mamalia'Kucing Persia' memiliki 4 kaki\n",
            "--------------------\n",
            "Mamalia'Kucing Persia sedang menyusui\n",
            "HewanKucing Persia' sedang bergerak.\n",
            "Jenis Makanan: Karinivora\n",
            "Nama organisme: Kucing Persia\n"
          ]
        }
      ]
    },
    {
      "cell_type": "markdown",
      "source": [
        "# Praktikum 5"
      ],
      "metadata": {
        "id": "QpwjnfUMUuw5"
      }
    },
    {
      "cell_type": "code",
      "source": [
        "!apt-get install -y locales\n",
        "!locale-gen id_ID.UTF-8\n",
        "!update_locale"
      ],
      "metadata": {
        "id": "1eFIi0cbUyTU",
        "outputId": "d0541175-6d50-4111-d24b-bce7970142f8",
        "colab": {
          "base_uri": "https://localhost:8080/"
        }
      },
      "execution_count": 5,
      "outputs": [
        {
          "output_type": "stream",
          "name": "stdout",
          "text": [
            "Reading package lists... Done\n",
            "Building dependency tree... Done\n",
            "Reading state information... Done\n",
            "locales is already the newest version (2.35-0ubuntu3.9).\n",
            "0 upgraded, 0 newly installed, 0 to remove and 34 not upgraded.\n",
            "Generating locales (this might take a while)...\n",
            "  id_ID.UTF-8... done\n",
            "Generation complete.\n",
            "/bin/bash: line 1: update_locale: command not found\n"
          ]
        }
      ]
    },
    {
      "cell_type": "code",
      "source": [
        "import locale\n",
        "\n",
        "try:\n",
        "  locale.setlocale(locale.LC_ALL,'id_ID.UTF-8')\n",
        "except locale.Error:\n",
        "  print(\"Locale 'id_ID.UTF-8' dan 'id_ID' tidak tersedia. Menggunakan Locale default\")\n",
        "def format_rupiah(angka) :\n",
        "  return locale.currency(angka, grouping=True,symbol='Rp')\n",
        "\n",
        "#kelas induk\n",
        "class Pegawai:\n",
        "  def __init__ (self,nama, id_pegawai,gaji_pokok):\n",
        "    self.nama = nama\n",
        "    self.id_pegawai = id_pegawai\n",
        "    self.gaji_pokok = gaji_pokok\n",
        "\n",
        "  def hitung_gaji(self):\n",
        "    return self.gaji_pokok\n",
        "\n",
        "  def tampilkan_info(self):\n",
        "    print(f\"ID:{self.id_pegawai},Nama:{self.nama}\")\n",
        "    print (f\"Gaji Pokok: {format_rupiah(self.gaji_pokok)}\")\n",
        "\n",
        "#kelas anak 1\n",
        "class Manager (Pegawai):\n",
        "  def __init__ (self,nama,id_pegawai, gaji_pokok, tunjangan_jabatan):\n",
        "    super().__init__(nama, id_pegawai, gaji_pokok)\n",
        "    self.tunjangan_jabatan = tunjangan_jabatan\n",
        "  def hitung_gaji(self):\n",
        "    gaji_total = super().hitung_gaji() + self.tunjangan_jabatan\n",
        "    return gaji_total\n",
        "  def tampilkan_info(self):\n",
        "    print(\"-- Info Manager --\")\n",
        "    super().tampilkan_info()\n",
        "    print(f\"Tunjangan Jabatan: {format_rupiah(self.tunjangan_jabatan)}\")\n",
        "    print(f\"Total Gaji: {format_rupiah(self.hitung_gaji())}\")\n",
        "\n",
        "#kelas anak 2\n",
        "class StafTeknis(Pegawai):\n",
        "  def __init__ (self,nama,id_pegawai,gaji_pokok, keahlian,bonus_keahlian):\n",
        "    super().__init__ (nama, id_pegawai, gaji_pokok)\n",
        "    self.keahlian = keahlian\n",
        "    self.bonus_keahlian = bonus_keahlian\n",
        "  def hitung_gaji(self):\n",
        "    gaji_total = super().hitung_gaji()+self.bonus_keahlian\n",
        "    return gaji_total\n",
        "\n",
        "  def tampilkan_info(self):\n",
        "    print(\"-- Info Staf Teknis --\")\n",
        "    super().tampilkan_info()\n",
        "    print(f\"Keahlian: {self.keahlian}\")\n",
        "    print(f\"Bonus Keahlian: {format_rupiah(self.bonus_keahlian)}\")\n",
        "    print(f\"Total Gaji: {format_rupiah(self.hitung_gaji())}\")\n",
        "\n",
        "#kode Utama\n",
        "if __name__ == \"__main__\":\n",
        "  manager1 = Manager(\"Budi Santoso\", \"M001\", 10000000, 5000000)\n",
        "  staf1 = StafTeknis (\"Citra Lestari\", \"S001\", 7000000, \"Phyton Programming\", 1500000)\n",
        "  pegawai_baru = Pegawai(\"Rian\", \"P005\", 5000000)\n",
        "  print(\"Menampilkan Informasi Pegawai\")\n",
        "  manager1.tampilkan_info()\n",
        "  print(\"-\" *30)\n",
        "  staf1.tampilkan_info()\n",
        "  print(\"-\" * 30)\n",
        "\n",
        "  print(\"-- Info Pegawai Baru --\")\n",
        "  pegawai_baru.tampilkan_info()\n",
        "  print(f\" Total Gaji:{format_rupiah(pegawai_baru.hitung_gaji())}\")\n",
        "  print(\"-\" * 30)"
      ],
      "metadata": {
        "id": "4hBRoLvEYZAI",
        "outputId": "051c49cf-4190-4ba4-e210-b6316d1757e0",
        "colab": {
          "base_uri": "https://localhost:8080/"
        }
      },
      "execution_count": 23,
      "outputs": [
        {
          "output_type": "stream",
          "name": "stdout",
          "text": [
            "Menampilkan Informasi Pegawai\n",
            "-- Info Manager --\n",
            "ID:M001,Nama:Budi Santoso\n",
            "Gaji Pokok: Rp10.000.000,00\n",
            "Tunjangan Jabatan: Rp5.000.000,00\n",
            "Total Gaji: Rp15.000.000,00\n",
            "------------------------------\n",
            "-- Info Staf Teknis --\n",
            "ID:S001,Nama:Citra Lestari\n",
            "Gaji Pokok: Rp7.000.000,00\n",
            "Keahlian: Phyton Programming\n",
            "Bonus Keahlian: Rp1.500.000,00\n",
            "Total Gaji: Rp8.500.000,00\n",
            "------------------------------\n",
            "-- Info Pegawai Baru --\n",
            "ID:P005,Nama:Rian\n",
            "Gaji Pokok: Rp5.000.000,00\n",
            " Total Gaji:Rp5.000.000,00\n",
            "------------------------------\n"
          ]
        }
      ]
    },
    {
      "cell_type": "markdown",
      "source": [
        "# Praktikum 6"
      ],
      "metadata": {
        "id": "ggBw94WPoLDo"
      }
    },
    {
      "cell_type": "code",
      "source": [
        "class BentukGeometri:\n",
        "  def __init__ (self,nama_bentuk):\n",
        "    self.nama = nama_bentuk\n",
        "  def tampilkan_nama(self):\n",
        "    print(f\"Ini adalah bentuk: {self.nama}\")\n",
        "  def hitung_luas(self):\n",
        "    print(f\"Luas {self.nama} tidak dapat dihitung (generik).\")\n",
        "\n",
        "class PersegiPanjang(BentukGeometri):\n",
        "  def __init__(self,panjang,lebar):\n",
        "    super().__init__(\"Persegi Panjang\")\n",
        "    self.panjang = panjang\n",
        "    self.lebar = lebar\n",
        "  def hitung_luas(self):\n",
        "    luas = self.panjang*self.lebar\n",
        "    print(f\"Luas {self.nama}: {luas}\")\n",
        "\n",
        "class Segitiga(BentukGeometri):\n",
        "  def __init__ (self,alas,tinggi):\n",
        "    super(). __init__ (\"Segitiga\")\n",
        "    self.alas = alas\n",
        "    self.tinggi = tinggi\n",
        "  def hitung_luas(self):\n",
        "    luas = 0.5*self.alas*self.tinggi\n",
        "    print(f\"Luas {self.nama}:{luas}\")\n",
        "\n",
        "  def proses_bentuk(bentuk):\n",
        "    print(f\"\\nMemproses objek:{type(bentuk)}\")\n",
        "\n",
        "    if isinstance(bentuk,BentukGeometri):\n",
        "      bentuk.tampilkan_nama()\n",
        "      print(\"Objek ini adalah instancve dari BentukGeometri (atau turunannya).\")\n",
        "\n",
        "      if isinstance(bentuk,PersegiPanjang):\n",
        "        print(\"-> Objek ini juga instance dari PersegiPanjang.\")\n",
        "      elif isinstace(bentuk,Segitiga):\n",
        "        print(\"-> Objek ini juga instance dari Segitiga.\")\n",
        "      else:\n",
        "        print(\"Objek ini BUKAN instance dari BentukaGeometri\")\n",
        "\n",
        "      if isintance (bentuk,str):\n",
        "        print(\"Objek ini adalah string.\")\n",
        "\n",
        "#--- Kode Utama ---\n",
        "if __name__ == \"__main__\":\n",
        "  pp = PersegiPanjang(4,3)\n",
        "  seg = Segitiga(5,2)\n",
        "  bg = BentukGeometri(\"Lingkaran\")\n",
        "  teks = \"Ini string\"\n",
        "\n",
        "  daftar_objek = [pp,seg,bg,teks]\n",
        "\n",
        "for obj in daftar_objek:\n",
        "    proses_bentuk(obj)"
      ],
      "metadata": {
        "id": "zbMVA_FYoNzc",
        "outputId": "b6e38897-e2d0-43ed-d5b0-61dfef1b6357",
        "colab": {
          "base_uri": "https://localhost:8080/"
        }
      },
      "execution_count": 35,
      "outputs": [
        {
          "output_type": "stream",
          "name": "stdout",
          "text": [
            "\n",
            "Memproses objek:<class '__main__.PersegiPanjang'>\n",
            "\n",
            "Memproses objek:<class '__main__.Segitiga'>\n",
            "\n",
            "Memproses objek:<class '__main__.BentukGeometri'>\n",
            "\n",
            "Memproses objek:<class 'str'>\n"
          ]
        }
      ]
    },
    {
      "cell_type": "markdown",
      "source": [
        "#Penugasan"
      ],
      "metadata": {
        "id": "N9YKa8G94cvm"
      }
    },
    {
      "cell_type": "code",
      "source": [
        "# kelas iniduk\n",
        "class Mahasiswa:\n",
        "  def __init__(self, nama, nim, ipk):\n",
        "    self.nama = nama\n",
        "    self.nim = nim\n",
        "    self.ipk = ipk\n",
        "  def tampilkan_info(self):\n",
        "    print(f\"Nama: {self.nama}\")\n",
        "    print(f\"NIM: {self.nim}\")\n",
        "    print(f\"IPK: {self.ipk}\")\n",
        "  def hitung_predikat(self):\n",
        "    if self.ipk >= 3.5:\n",
        "      return \"Dengan Pujian\"\n",
        "    elif self.ipk >= 3.0:\n",
        "      return \"Sangat Memuaskan\"\n",
        "    elif self.ipk >= 2.5:\n",
        "      return \"Memuaskan\"\n",
        "    else:\n",
        "      return \"Cukup\"\n",
        "\n",
        "# Kelas anak 1\n",
        "class MahasiswaSarjana(Mahasiswa):\n",
        "  def __init__ (self,nama, nim, ipk, semester, sks_lulus):\n",
        "    super().__init__(nama,nim,ipk)\n",
        "    self.semester = semester\n",
        "    self.sks_lulus = sks_lulus\n",
        "  def tampilkan_info(self):\n",
        "    super().tampilkan_info()\n",
        "    print(f\"Semester: {self.semester}\")\n",
        "    print(f\"SKS Lulus: {self.sks_lulus}\")\n",
        "\n",
        "# Kelas anak 2\n",
        "class MahasiswaMagister(Mahasiswa):\n",
        "  def __init__(self, nama, nim,ipk, judul_tesis, nama_pembimbing):\n",
        "    super().__init__(nama,nim,ipk)\n",
        "    self.judul_tesis = judul_tesis\n",
        "    self.nama_pembimbing = nama_pembimbing\n",
        "  def hitung_predikat(self):\n",
        "    return super().hitung_predikat()\n",
        "\n",
        "# Kode Utama / contoh pengunaaan\n",
        "m1 = Mahasiswa(\"Abyan\",\"43324201\", 3.6)\n",
        "m1.tampilkan_info()\n",
        "print(\"Predikat:\", m1.hitung_predikat())\n",
        "\n",
        "s1 = MahasiswaSarjana(\"Faza\",\"12345678\", 3.8, 7, 96)\n",
        "s1.tampilkan_info()\n",
        "print(\"Predikat:\", s1.hitung_predikat())\n",
        "\n",
        "p1 = MahasiswaMagister(\"Nariswangga\",\"87654321\", 3.3, \"Pengaruh Perangkat IOT dalam Pemauntauan Performa Atlit\", \"Kaoru Mitoma\")\n",
        "p1.tampilkan_info()\n",
        "print(\"Predikat:\", p1.hitung_predikat())"
      ],
      "metadata": {
        "id": "-5Mx8kZH4gv9",
        "outputId": "5057a2ae-76a5-4c4b-f5d2-55e4a5273c7e",
        "colab": {
          "base_uri": "https://localhost:8080/"
        }
      },
      "execution_count": 41,
      "outputs": [
        {
          "output_type": "stream",
          "name": "stdout",
          "text": [
            "Nama: Abyan\n",
            "NIM: 43324201\n",
            "IPK: 3.6\n",
            "Predikat: Dengan Pujian\n",
            "Nama: Faza\n",
            "NIM: 12345678\n",
            "IPK: 3.8\n",
            "Semester: 7\n",
            "SKS Lulus: 96\n",
            "Predikat: Dengan Pujian\n",
            "Nama: Nariswangga\n",
            "NIM: 87654321\n",
            "IPK: 3.3\n",
            "Predikat: Sangat Memuaskan\n"
          ]
        }
      ]
    }
  ]
}