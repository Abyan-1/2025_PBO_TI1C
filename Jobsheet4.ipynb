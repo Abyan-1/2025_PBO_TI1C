{
  "nbformat": 4,
  "nbformat_minor": 0,
  "metadata": {
    "colab": {
      "provenance": [],
      "authorship_tag": "ABX9TyOr3g7j9UYE9kmCmFQl8Q0N",
      "include_colab_link": true
    },
    "kernelspec": {
      "name": "python3",
      "display_name": "Python 3"
    },
    "language_info": {
      "name": "python"
    }
  },
  "cells": [
    {
      "cell_type": "markdown",
      "metadata": {
        "id": "view-in-github",
        "colab_type": "text"
      },
      "source": [
        "<a href=\"https://colab.research.google.com/github/Abyan-1/2025_PBO_TI1C/blob/main/Jobsheet4.ipynb\" target=\"_parent\"><img src=\"https://colab.research.google.com/assets/colab-badge.svg\" alt=\"Open In Colab\"/></a>"
      ]
    },
    {
      "cell_type": "markdown",
      "source": [
        "#Praktikum 1"
      ],
      "metadata": {
        "id": "8ycvZzyFglwU"
      }
    },
    {
      "cell_type": "code",
      "source": [
        "#kelas induk\n",
        "class Kendaraan:\n",
        "  def __init__ (self, merk) :\n",
        "      self.merk = merk\n",
        "\n",
        "  def mulai_mesin(self):\n",
        "    print(f\"Mesin Kendaraan {self.merk} dinyalakan.\")\n",
        "\n",
        "#Kelas Anak (mewarisi dari kendaraan)\n",
        "class Mobil (Kendaraan):\n",
        "    def __init__ (self, merk, warna):\n",
        "    #Memanggil __init__ kelas induk\n",
        "    #self.merk manual\n",
        "      self.merk = merk #MEwarisi 'merk' tapi di set ulang\n",
        "      self.warna = warna #Atribut khusus Mobil\n",
        "\n",
        "    def info_mobil (self):\n",
        "      print(f\"Ini adalah mobil {self.merk} berwarna {self.warna}.\")\n",
        "\n",
        "# --- Kode Utama --- #\n",
        "if __name__ == \"__main__\":\n",
        "    mobil_tesla = Mobil (\"Tesla Model S\", \"Merah\")\n",
        "\n",
        "  #Memanggil metode dari kelas anak\n",
        "    mobil_tesla.info_mobil ()\n",
        "\n",
        "  #Memanggil metode yang diwarisi dari kelas induk\n",
        "    mobil_tesla.mulai_mesin ()\n",
        "\n",
        "  #Mengakses atribut yang diwarisi (dan diset si di anak)\n",
        "    print(f\"Merk Mobil Tesla: {mobil_tesla.merk}\")"
      ],
      "metadata": {
        "id": "Zcna0zGhgorN",
        "outputId": "08b61100-c590-416b-fe54-556bf952b056",
        "colab": {
          "base_uri": "https://localhost:8080/"
        }
      },
      "execution_count": 26,
      "outputs": [
        {
          "output_type": "stream",
          "name": "stdout",
          "text": [
            "Ini adalah mobil Tesla Model S berwarna Merah.\n",
            "Mesin Kendaraan Tesla Model S dinyalakan.\n",
            "Merk Mobil Tesla: Tesla Model S\n"
          ]
        }
      ]
    },
    {
      "cell_type": "markdown",
      "source": [
        "# Praktikum 2"
      ],
      "metadata": {
        "id": "7l6X17rRpmqY"
      }
    },
    {
      "cell_type": "code",
      "source": [
        "# Kelas Induk\n",
        "class Person :\n",
        "  def __init__ (self, nama, usia) :\n",
        "    print(f\"(Memanggil __init__ Person untuk '{nama}')\")\n",
        "    self.nama = nama\n",
        "    self.usia = usia\n",
        "\n",
        "  def perkenalan_diri(self):\n",
        "    print(f\"Halo, nama saya {self.nama}, usia saya {self.usia} tahun.\")\n",
        "\n",
        "# Kelas Anak\n",
        "class Student (Person):\n",
        "  def __init__ (self, nama, usia, student_id, jurusan) :\n",
        "    print(f\"(Memanggil __init__ Student untuk '{nama}')\")\n",
        "    super(). __init__ (nama,usia)\n",
        "    self.student_id = student_id\n",
        "    self.jurusan = jurusan\n",
        "    print(f\"(Inisialisasi atribut Student selesai untuk '{nama}')\")\n",
        "  def info_akademik(self):\n",
        "    print(f\"ID Mahasiswa: {self.student_id}\")\n",
        "    print(f\"Jurusan: {self.jurusan}\")\n",
        "  def perkenalan_diri(self) :\n",
        "    super(). perkenalan_diri()\n",
        "    print(f\"Saya adalah Mahasiswa dengan ID {self.student_id}, jurusan {self.jurusan}.\")\n",
        "\n",
        "# Kode Utama\n",
        "if __name__ == \"__main__\":\n",
        "\n",
        "  dosen = Person(\"Pak Anton\", 45)\n",
        "  print(\"-\" * 20)\n",
        "  dosen.perkenalan_diri()\n",
        "  print(\"\\n\" + \"=\" * 30 + \"\\n\")\n",
        "\n",
        "#Membuat Objek Student\n",
        "  mahasiswa = Student(\"dewi\", 20, \"MHSS001\", \"Teknik Komputer\")\n",
        "  print(\"-\" * 20)\n",
        "  mahasiswa.perkenalan_diri()\n",
        "  print(\"-\" * 20)\n",
        "  mahasiswa.info_akademik()\n",
        "\n",
        "  print(f\"\\nUsia mahasiswa {mahasiswa.nama}:{mahasiswa.usia}\")"
      ],
      "metadata": {
        "id": "QNbsICIIppCh",
        "outputId": "f0792c99-7c18-4e90-d147-e509c3518924",
        "colab": {
          "base_uri": "https://localhost:8080/"
        }
      },
      "execution_count": 32,
      "outputs": [
        {
          "output_type": "stream",
          "name": "stdout",
          "text": [
            "(Memanggil __init__ Person untuk 'Pak Anton')\n",
            "--------------------\n",
            "Halo, nama saya Pak Anton, usia saya 45 tahun.\n",
            "\n",
            "==============================\n",
            "\n",
            "(Memanggil __init__ Student untuk 'dewi')\n",
            "(Memanggil __init__ Person untuk 'dewi')\n",
            "(Inisialisasi atribut Student selesai untuk 'dewi')\n",
            "--------------------\n",
            "Halo, nama saya dewi, usia saya 20 tahun.\n",
            "Saya adalah Mahasiswa dengan ID MHSS001, jurusan Teknik Komputer.\n",
            "--------------------\n",
            "ID Mahasiswa: MHSS001\n",
            "Jurusan: Teknik Komputer\n",
            "\n",
            "Usia mahasiswa dewi:20\n"
          ]
        }
      ]
    },
    {
      "cell_type": "markdown",
      "source": [
        "#Praktikum 3"
      ],
      "metadata": {
        "id": "lP1BZGyIwNVC"
      }
    },
    {
      "cell_type": "code",
      "source": [
        "# Kelas Induk\n",
        "class Hewan:\n",
        "  def __init__ (self, nama):\n",
        "    self.nama = nama\n",
        "  def bersuara(self):\n",
        "    print(f\"{self.nama} mengeluarkan suara generik.\")\n",
        "  def tampilkan_info(self):\n",
        "    print(f\"Ini adalah hewan bernama {self.nama}.\")\n",
        "\n",
        "# Kelas anak\n",
        "class Kucing (Hewan):\n",
        "  def __init__ (self, nama, ras):\n",
        "    super(). __init__ (nama)\n",
        "    self.ras = ras\n",
        "\n",
        "# Methode Overriding\n",
        "  def bersuara (self):\n",
        "    print(f\"{self.nama} (Kucing) Mengeong: Meow!\")\n",
        "\n",
        "  def tampilkan_info(self):\n",
        "    super().tampilkan_info()\n",
        "\n",
        "    print(f\"Ini adalah kucing ras {self.ras}.\")\n",
        "\n",
        "# Kode Utama\n",
        "if __name__ == \"__main__\":\n",
        "    hewan_umum = Hewan(\"Makhluk\")\n",
        "    kucing_persia= Kucing(\"Puspus\", \"Persia\")\n",
        "\n",
        "    print(\"Info Hewan Umum:\")\n",
        "    hewan_umum.tampilkan_info()\n",
        "    hewan_umum.bersuara()\n",
        "    print(\"-\" * 20)\n",
        "\n",
        "    print(\"Info Kucing Persia:\")\n",
        "    kucing_persia.tampilkan_info()\n",
        "    kucing_persia.bersuara()"
      ],
      "metadata": {
        "id": "PBr7XyIpwPrd",
        "outputId": "e9170989-3edc-4c67-d0d3-18059029158c",
        "colab": {
          "base_uri": "https://localhost:8080/"
        }
      },
      "execution_count": 41,
      "outputs": [
        {
          "output_type": "stream",
          "name": "stdout",
          "text": [
            "Info Hewan Umum:\n",
            "Ini adalah hewan bernama Makhluk.\n",
            "Makhluk mengeluarkan suara generik.\n",
            "--------------------\n",
            "Info Kucing Persia:\n",
            "Ini adalah hewan bernama Puspus.\n",
            "Ini adalah kucing ras Persia.\n",
            "Puspus (Kucing) Mengeong: Meow!\n"
          ]
        }
      ]
    },
    {
      "cell_type": "markdown",
      "source": [
        "# Praktikum 4"
      ],
      "metadata": {
        "id": "Js8qSCfv4NRs"
      }
    },
    {
      "cell_type": "code",
      "source": [
        "# Kelas Induk Level 1\n",
        "class Organisme :\n",
        "  def __init__ (self, nama) :\n",
        "    self.nama = nama\n",
        "    print(f\"Organisme '{self.nama}' diciptakan.\")\n",
        "\n",
        "  def bernafas(self):\n",
        "    print(f\"{self.nama} sedang bernafas\")\n",
        "\n",
        "# Kelas Anak Level 1\n",
        "class Hewan (Organisme) :\n",
        "  def __init__(self, nama, jenis_makanan)\n",
        "    super(). __init__(nama)\n",
        "    self.jenis_makanan = jenis_makanan\n",
        "    print(f\"Hewan '{self.nama}'adalah {self.jenis_makanan}.\")\n",
        "\n",
        "  def bergerak(self):\n",
        "    print(f\"Hewan{self.nama}' sedang bergerak.\")\n",
        "\n",
        "# Kelas Anak Level 2\n",
        "class Mamalia (Hewan) :"
      ],
      "metadata": {
        "id": "IXhgn9FF4UPU",
        "outputId": "dcd8df91-3a53-4277-d0c7-c13fd3408e10",
        "colab": {
          "base_uri": "https://localhost:8080/",
          "height": 106
        }
      },
      "execution_count": 42,
      "outputs": [
        {
          "output_type": "error",
          "ename": "SyntaxError",
          "evalue": "incomplete input (<ipython-input-42-ea236953f770>, line 7)",
          "traceback": [
            "\u001b[0;36m  File \u001b[0;32m\"<ipython-input-42-ea236953f770>\"\u001b[0;36m, line \u001b[0;32m7\u001b[0m\n\u001b[0;31m    def bernafas(self):\u001b[0m\n\u001b[0m                       ^\u001b[0m\n\u001b[0;31mSyntaxError\u001b[0m\u001b[0;31m:\u001b[0m incomplete input\n"
          ]
        }
      ]
    }
  ]
}